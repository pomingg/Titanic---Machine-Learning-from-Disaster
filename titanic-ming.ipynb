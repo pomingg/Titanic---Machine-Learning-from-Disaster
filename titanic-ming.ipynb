{
 "cells": [
  {
   "cell_type": "code",
   "execution_count": 1,
   "id": "2c19d31e",
   "metadata": {
    "_cell_guid": "b1076dfc-b9ad-4769-8c92-a6c4dae69d19",
    "_uuid": "8f2839f25d086af736a60e9eeb907d3b93b6e0e5",
    "execution": {
     "iopub.execute_input": "2022-12-27T06:00:37.674081Z",
     "iopub.status.busy": "2022-12-27T06:00:37.673428Z",
     "iopub.status.idle": "2022-12-27T06:00:37.685608Z",
     "shell.execute_reply": "2022-12-27T06:00:37.684043Z"
    },
    "papermill": {
     "duration": 0.035086,
     "end_time": "2022-12-27T06:00:37.688793",
     "exception": false,
     "start_time": "2022-12-27T06:00:37.653707",
     "status": "completed"
    },
    "tags": []
   },
   "outputs": [
    {
     "name": "stdout",
     "output_type": "stream",
     "text": [
      "/kaggle/input/titanic/train.csv\n",
      "/kaggle/input/titanic/test.csv\n",
      "/kaggle/input/titanic/gender_submission.csv\n"
     ]
    }
   ],
   "source": [
    "## This Python 3 environment comes with many helpful analytics libraries installed\n",
    "# It is defined by the kaggle/python Docker image: https://github.com/kaggle/docker-python\n",
    "# For example, here's several helpful packages to load\n",
    "\n",
    "import numpy as np # linear algebra\n",
    "import pandas as pd # data processing, CSV file I/O (e.g. pd.read_csv)\n",
    "\n",
    "# Input data files are available in the read-only \"../input/\" directory\n",
    "# For example, running this (by clicking run or pressing Shift+Enter) will list all files under the input directory\n",
    "\n",
    "import os\n",
    "for dirname, _, filenames in os.walk('/kaggle/input'):\n",
    "    for filename in filenames:\n",
    "        print(os.path.join(dirname, filename))\n",
    "\n",
    "# You can write up to 20GB to the current directory (/kaggle/working/) that gets preserved as output when you create a version using \"Save & Run All\" \n",
    "# You can also write temporary files to /kaggle/temp/, but they won't be saved outside of the current session"
   ]
  },
  {
   "cell_type": "code",
   "execution_count": 2,
   "id": "317e7e02",
   "metadata": {
    "execution": {
     "iopub.execute_input": "2022-12-27T06:00:37.725327Z",
     "iopub.status.busy": "2022-12-27T06:00:37.724553Z",
     "iopub.status.idle": "2022-12-27T06:00:38.909308Z",
     "shell.execute_reply": "2022-12-27T06:00:38.907998Z"
    },
    "papermill": {
     "duration": 1.206176,
     "end_time": "2022-12-27T06:00:38.912210",
     "exception": false,
     "start_time": "2022-12-27T06:00:37.706034",
     "status": "completed"
    },
    "tags": []
   },
   "outputs": [],
   "source": [
    "import numpy as np\n",
    "import pandas as pd \n",
    "import matplotlib.pyplot as plt\n",
    "import seaborn as sns"
   ]
  },
  {
   "cell_type": "code",
   "execution_count": 3,
   "id": "2d221c35",
   "metadata": {
    "execution": {
     "iopub.execute_input": "2022-12-27T06:00:38.946316Z",
     "iopub.status.busy": "2022-12-27T06:00:38.945977Z",
     "iopub.status.idle": "2022-12-27T06:00:38.979366Z",
     "shell.execute_reply": "2022-12-27T06:00:38.978090Z"
    },
    "papermill": {
     "duration": 0.053698,
     "end_time": "2022-12-27T06:00:38.982171",
     "exception": false,
     "start_time": "2022-12-27T06:00:38.928473",
     "status": "completed"
    },
    "tags": []
   },
   "outputs": [
    {
     "name": "stdout",
     "output_type": "stream",
     "text": [
      "train data: (891, 12) \n",
      " test dta: (418, 11)\n"
     ]
    }
   ],
   "source": [
    "train_dt = pd.read_csv(\"/kaggle/input/titanic/train.csv\")\n",
    "test_dt = pd.read_csv(\"/kaggle/input/titanic/test.csv\")\n",
    "\n",
    "print(\"train data:\",train_dt.shape,\"\\n\",\"test dta:\",test_dt.shape)"
   ]
  },
  {
   "cell_type": "code",
   "execution_count": 4,
   "id": "f7e1c642",
   "metadata": {
    "execution": {
     "iopub.execute_input": "2022-12-27T06:00:39.017338Z",
     "iopub.status.busy": "2022-12-27T06:00:39.016658Z",
     "iopub.status.idle": "2022-12-27T06:00:39.062487Z",
     "shell.execute_reply": "2022-12-27T06:00:39.061379Z"
    },
    "papermill": {
     "duration": 0.066706,
     "end_time": "2022-12-27T06:00:39.065723",
     "exception": false,
     "start_time": "2022-12-27T06:00:38.999017",
     "status": "completed"
    },
    "tags": []
   },
   "outputs": [
    {
     "name": "stdout",
     "output_type": "stream",
     "text": [
      "(1309, 12)\n",
      "       PassengerId    Survived       Pclass          Age        SibSp  \\\n",
      "count  1309.000000  891.000000  1309.000000  1046.000000  1309.000000   \n",
      "mean    655.000000    0.383838     2.294882    29.881138     0.498854   \n",
      "std     378.020061    0.486592     0.837836    14.413493     1.041658   \n",
      "min       1.000000    0.000000     1.000000     0.170000     0.000000   \n",
      "25%     328.000000    0.000000     2.000000    21.000000     0.000000   \n",
      "50%     655.000000    0.000000     3.000000    28.000000     0.000000   \n",
      "75%     982.000000    1.000000     3.000000    39.000000     1.000000   \n",
      "max    1309.000000    1.000000     3.000000    80.000000     8.000000   \n",
      "\n",
      "             Parch         Fare  \n",
      "count  1309.000000  1308.000000  \n",
      "mean      0.385027    33.295479  \n",
      "std       0.865560    51.758668  \n",
      "min       0.000000     0.000000  \n",
      "25%       0.000000     7.895800  \n",
      "50%       0.000000    14.454200  \n",
      "75%       0.000000    31.275000  \n",
      "max       9.000000   512.329200  \n"
     ]
    }
   ],
   "source": [
    "full_dt = train_dt.append(test_dt)\n",
    "print(full_dt.shape)\n",
    "print(full_dt.describe())"
   ]
  },
  {
   "cell_type": "markdown",
   "id": "f221ec18",
   "metadata": {
    "papermill": {
     "duration": 0.016166,
     "end_time": "2022-12-27T06:00:39.099279",
     "exception": false,
     "start_time": "2022-12-27T06:00:39.083113",
     "status": "completed"
    },
    "tags": []
   },
   "source": [
    "# **檢查特徵與生存率的關係**"
   ]
  },
  {
   "cell_type": "code",
   "execution_count": 5,
   "id": "998cdc96",
   "metadata": {
    "execution": {
     "iopub.execute_input": "2022-12-27T06:00:39.134423Z",
     "iopub.status.busy": "2022-12-27T06:00:39.133790Z",
     "iopub.status.idle": "2022-12-27T06:00:39.386811Z",
     "shell.execute_reply": "2022-12-27T06:00:39.385939Z"
    },
    "papermill": {
     "duration": 0.272917,
     "end_time": "2022-12-27T06:00:39.388951",
     "exception": false,
     "start_time": "2022-12-27T06:00:39.116034",
     "status": "completed"
    },
    "tags": []
   },
   "outputs": [
    {
     "data": {
      "text/plain": [
       "<AxesSubplot:xlabel='Embarked', ylabel='Survived'>"
      ]
     },
     "execution_count": 5,
     "metadata": {},
     "output_type": "execute_result"
    },
    {
     "data": {
      "image/png": "[encoded data removed]",
      "text/plain": [
       "<Figure size 432x288 with 1 Axes>"
      ]
     },
     "metadata": {
      "needs_background": "light"
     },
     "output_type": "display_data"
    }
   ],
   "source": [
    "sns.barplot(data=train_dt,x = \"Embarked\",y = \"Survived\")"
   ]
  },
  {
   "cell_type": "code",
   "execution_count": 6,
   "id": "821be907",
   "metadata": {
    "execution": {
     "iopub.execute_input": "2022-12-27T06:00:39.428319Z",
     "iopub.status.busy": "2022-12-27T06:00:39.427917Z",
     "iopub.status.idle": "2022-12-27T06:00:39.440399Z",
     "shell.execute_reply": "2022-12-27T06:00:39.439544Z"
    },
    "papermill": {
     "duration": 0.033374,
     "end_time": "2022-12-27T06:00:39.442181",
     "exception": false,
     "start_time": "2022-12-27T06:00:39.408807",
     "status": "completed"
    },
    "tags": []
   },
   "outputs": [
    {
     "data": {
      "text/plain": [
       "0.0    0.663043\n",
       "1.0    0.336957\n",
       "Name: Survived, dtype: float64"
      ]
     },
     "execution_count": 6,
     "metadata": {},
     "output_type": "execute_result"
    }
   ],
   "source": [
    "full_dt[\"Survived\"][full_dt[\"Embarked\"]==\"S\"].value_counts(normalize=True)\n",
    "# 0 是死亡率 ; 1 是生存率"
   ]
  },
  {
   "cell_type": "code",
   "execution_count": 7,
   "id": "b68ff3c7",
   "metadata": {
    "execution": {
     "iopub.execute_input": "2022-12-27T06:00:39.477254Z",
     "iopub.status.busy": "2022-12-27T06:00:39.476845Z",
     "iopub.status.idle": "2022-12-27T06:00:39.487534Z",
     "shell.execute_reply": "2022-12-27T06:00:39.486272Z"
    },
    "papermill": {
     "duration": 0.031343,
     "end_time": "2022-12-27T06:00:39.490091",
     "exception": false,
     "start_time": "2022-12-27T06:00:39.458748",
     "status": "completed"
    },
    "tags": []
   },
   "outputs": [
    {
     "name": "stdout",
     "output_type": "stream",
     "text": [
      "登船地為\"S\",其乘客生存率為0.34\n",
      "登船地為\"C\",其乘客生存率為0.55\n",
      "登船地為\"Q\",其乘客生存率為0.39\n"
     ]
    }
   ],
   "source": [
    "print('登船地為\"S\",其乘客生存率為%.2f'%full_dt[\"Survived\"][full_dt[\"Embarked\"]==\"S\"].value_counts(normalize=True)[1])\n",
    "print('登船地為\"C\",其乘客生存率為%.2f'%full_dt[\"Survived\"][full_dt[\"Embarked\"]==\"C\"].value_counts(normalize=True)[1])\n",
    "print('登船地為\"Q\",其乘客生存率為%.2f'%full_dt[\"Survived\"][full_dt[\"Embarked\"]==\"Q\"].value_counts(normalize=True)[1])"
   ]
  },
  {
   "cell_type": "code",
   "execution_count": 8,
   "id": "cfcf9544",
   "metadata": {
    "execution": {
     "iopub.execute_input": "2022-12-27T06:00:39.525756Z",
     "iopub.status.busy": "2022-12-27T06:00:39.525028Z",
     "iopub.status.idle": "2022-12-27T06:00:39.755195Z",
     "shell.execute_reply": "2022-12-27T06:00:39.754395Z"
    },
    "papermill": {
     "duration": 0.25044,
     "end_time": "2022-12-27T06:00:39.757431",
     "exception": false,
     "start_time": "2022-12-27T06:00:39.506991",
     "status": "completed"
    },
    "tags": []
   },
   "outputs": [
    {
     "data": {
      "text/plain": [
       "<AxesSubplot:xlabel='Pclass', ylabel='Survived'>"
      ]
     },
     "execution_count": 8,
     "metadata": {},
     "output_type": "execute_result"
    },
    {
     "data": {
      "image/png": "[encoded data removed]",
      "text/plain": [
       "<Figure size 432x288 with 1 Axes>"
      ]
     },
     "metadata": {
      "needs_background": "light"
     },
     "output_type": "display_data"
    }
   ],
   "source": [
    "sns.barplot(data=train_dt,x = \"Pclass\",y = \"Survived\")"
   ]
  },
  {
   "cell_type": "code",
   "execution_count": 9,
   "id": "e3d94e32",
   "metadata": {
    "execution": {
     "iopub.execute_input": "2022-12-27T06:00:39.799182Z",
     "iopub.status.busy": "2022-12-27T06:00:39.798643Z",
     "iopub.status.idle": "2022-12-27T06:00:40.207892Z",
     "shell.execute_reply": "2022-12-27T06:00:40.206960Z"
    },
    "papermill": {
     "duration": 0.432051,
     "end_time": "2022-12-27T06:00:40.210834",
     "exception": false,
     "start_time": "2022-12-27T06:00:39.778783",
     "status": "completed"
    },
    "tags": []
   },
   "outputs": [
    {
     "data": {
      "text/plain": [
       "<seaborn.axisgrid.FacetGrid at 0x7f010d8b6b90>"
      ]
     },
     "execution_count": 9,
     "metadata": {},
     "output_type": "execute_result"
    },
    {
     "data": {
      "image/png": "[encoded data removed]",
      "text/plain": [
       "<Figure size 648x216 with 3 Axes>"
      ]
     },
     "metadata": {
      "needs_background": "light"
     },
     "output_type": "display_data"
    }
   ],
   "source": [
    "sns.catplot(x =\"Pclass\",col = \"Embarked\",data=train_dt,kind =\"count\",height =3)"
   ]
  },
  {
   "cell_type": "code",
   "execution_count": 10,
   "id": "b00b379e",
   "metadata": {
    "execution": {
     "iopub.execute_input": "2022-12-27T06:00:40.248728Z",
     "iopub.status.busy": "2022-12-27T06:00:40.248350Z",
     "iopub.status.idle": "2022-12-27T06:00:40.256084Z",
     "shell.execute_reply": "2022-12-27T06:00:40.255249Z"
    },
    "papermill": {
     "duration": 0.028725,
     "end_time": "2022-12-27T06:00:40.258068",
     "exception": false,
     "start_time": "2022-12-27T06:00:40.229343",
     "status": "completed"
    },
    "tags": []
   },
   "outputs": [
    {
     "data": {
      "text/plain": [
       "0    891\n",
       "1    319\n",
       "2     42\n",
       "4     22\n",
       "3     20\n",
       "8      9\n",
       "5      6\n",
       "Name: SibSp, dtype: int64"
      ]
     },
     "execution_count": 10,
     "metadata": {},
     "output_type": "execute_result"
    }
   ],
   "source": [
    "full_dt[\"SibSp\"].value_counts()"
   ]
  },
  {
   "cell_type": "code",
   "execution_count": 11,
   "id": "2914c3f8",
   "metadata": {
    "execution": {
     "iopub.execute_input": "2022-12-27T06:00:40.296060Z",
     "iopub.status.busy": "2022-12-27T06:00:40.295644Z",
     "iopub.status.idle": "2022-12-27T06:00:40.614485Z",
     "shell.execute_reply": "2022-12-27T06:00:40.613670Z"
    },
    "papermill": {
     "duration": 0.340448,
     "end_time": "2022-12-27T06:00:40.616430",
     "exception": false,
     "start_time": "2022-12-27T06:00:40.275982",
     "status": "completed"
    },
    "tags": []
   },
   "outputs": [
    {
     "data": {
      "text/plain": [
       "<AxesSubplot:xlabel='SibSp', ylabel='Survived'>"
      ]
     },
     "execution_count": 11,
     "metadata": {},
     "output_type": "execute_result"
    },
    {
     "data": {
      "image/png": "[encoded data removed]",
      "text/plain": [
       "<Figure size 432x288 with 1 Axes>"
      ]
     },
     "metadata": {
      "needs_background": "light"
     },
     "output_type": "display_data"
    }
   ],
   "source": [
    "sns.barplot(data=train_dt,x = \"SibSp\",y = \"Survived\")"
   ]
  },
  {
   "cell_type": "code",
   "execution_count": 12,
   "id": "6296b722",
   "metadata": {
    "execution": {
     "iopub.execute_input": "2022-12-27T06:00:40.654081Z",
     "iopub.status.busy": "2022-12-27T06:00:40.653685Z",
     "iopub.status.idle": "2022-12-27T06:00:40.661254Z",
     "shell.execute_reply": "2022-12-27T06:00:40.660112Z"
    },
    "papermill": {
     "duration": 0.028918,
     "end_time": "2022-12-27T06:00:40.663060",
     "exception": false,
     "start_time": "2022-12-27T06:00:40.634142",
     "status": "completed"
    },
    "tags": []
   },
   "outputs": [
    {
     "data": {
      "text/plain": [
       "0    1002\n",
       "1     170\n",
       "2     113\n",
       "3       8\n",
       "5       6\n",
       "4       6\n",
       "6       2\n",
       "9       2\n",
       "Name: Parch, dtype: int64"
      ]
     },
     "execution_count": 12,
     "metadata": {},
     "output_type": "execute_result"
    }
   ],
   "source": [
    "full_dt[\"Parch\"].value_counts()"
   ]
  },
  {
   "cell_type": "code",
   "execution_count": 13,
   "id": "75296194",
   "metadata": {
    "execution": {
     "iopub.execute_input": "2022-12-27T06:00:40.701274Z",
     "iopub.status.busy": "2022-12-27T06:00:40.700277Z",
     "iopub.status.idle": "2022-12-27T06:00:40.980392Z",
     "shell.execute_reply": "2022-12-27T06:00:40.979588Z"
    },
    "papermill": {
     "duration": 0.301657,
     "end_time": "2022-12-27T06:00:40.982789",
     "exception": false,
     "start_time": "2022-12-27T06:00:40.681132",
     "status": "completed"
    },
    "tags": []
   },
   "outputs": [
    {
     "data": {
      "text/plain": [
       "<AxesSubplot:xlabel='Parch', ylabel='Survived'>"
      ]
     },
     "execution_count": 13,
     "metadata": {},
     "output_type": "execute_result"
    },
    {
     "data": {
      "image/png": "[encoded data removed]",
      "text/plain": [
       "<Figure size 432x288 with 1 Axes>"
      ]
     },
     "metadata": {
      "needs_background": "light"
     },
     "output_type": "display_data"
    }
   ],
   "source": [
    "sns.barplot(data=train_dt,x = \"Parch\",y = \"Survived\")"
   ]
  },
  {
   "cell_type": "code",
   "execution_count": 14,
   "id": "b8657607",
   "metadata": {
    "execution": {
     "iopub.execute_input": "2022-12-27T06:00:41.023355Z",
     "iopub.status.busy": "2022-12-27T06:00:41.022450Z",
     "iopub.status.idle": "2022-12-27T06:00:41.210994Z",
     "shell.execute_reply": "2022-12-27T06:00:41.210226Z"
    },
    "papermill": {
     "duration": 0.210519,
     "end_time": "2022-12-27T06:00:41.213021",
     "exception": false,
     "start_time": "2022-12-27T06:00:41.002502",
     "status": "completed"
    },
    "tags": []
   },
   "outputs": [
    {
     "data": {
      "text/plain": [
       "<AxesSubplot:xlabel='Sex', ylabel='Survived'>"
      ]
     },
     "execution_count": 14,
     "metadata": {},
     "output_type": "execute_result"
    },
    {
     "data": {
      "image/png": "[encoded data removed]",
      "text/plain": [
       "<Figure size 432x288 with 1 Axes>"
      ]
     },
     "metadata": {
      "needs_background": "light"
     },
     "output_type": "display_data"
    }
   ],
   "source": [
    "sns.barplot(data=train_dt,x = \"Sex\",y = \"Survived\")"
   ]
  },
  {
   "cell_type": "code",
   "execution_count": 15,
   "id": "86e3789a",
   "metadata": {
    "execution": {
     "iopub.execute_input": "2022-12-27T06:00:41.261006Z",
     "iopub.status.busy": "2022-12-27T06:00:41.260505Z",
     "iopub.status.idle": "2022-12-27T06:00:41.589351Z",
     "shell.execute_reply": "2022-12-27T06:00:41.588599Z"
    },
    "papermill": {
     "duration": 0.35431,
     "end_time": "2022-12-27T06:00:41.591122",
     "exception": false,
     "start_time": "2022-12-27T06:00:41.236812",
     "status": "completed"
    },
    "tags": []
   },
   "outputs": [
    {
     "data": {
      "text/plain": [
       "<seaborn.axisgrid.FacetGrid at 0x7f010d473790>"
      ]
     },
     "execution_count": 15,
     "metadata": {},
     "output_type": "execute_result"
    },
    {
     "data": {
      "image/png": "[encoded data removed]",
      "text/plain": [
       "<Figure size 699.875x216 with 1 Axes>"
      ]
     },
     "metadata": {
      "needs_background": "light"
     },
     "output_type": "display_data"
    }
   ],
   "source": [
    "ageFacet = sns.FacetGrid(train_dt,hue = \"Survived\",aspect = 3)\n",
    "ageFacet.map(sns.kdeplot,\"Age\",shade = True)\n",
    "ageFacet.add_legend()\n",
    "ageFacet.set(xlim=(0,train_dt[\"Age\"].max())) #0以下移除，取到資料年齡最大值"
   ]
  },
  {
   "cell_type": "code",
   "execution_count": 16,
   "id": "029e7c61",
   "metadata": {
    "execution": {
     "iopub.execute_input": "2022-12-27T06:00:41.633315Z",
     "iopub.status.busy": "2022-12-27T06:00:41.632674Z",
     "iopub.status.idle": "2022-12-27T06:00:41.938308Z",
     "shell.execute_reply": "2022-12-27T06:00:41.936786Z"
    },
    "papermill": {
     "duration": 0.330973,
     "end_time": "2022-12-27T06:00:41.941661",
     "exception": false,
     "start_time": "2022-12-27T06:00:41.610688",
     "status": "completed"
    },
    "tags": []
   },
   "outputs": [
    {
     "data": {
      "text/plain": [
       "<seaborn.axisgrid.FacetGrid at 0x7f010d3e60d0>"
      ]
     },
     "execution_count": 16,
     "metadata": {},
     "output_type": "execute_result"
    },
    {
     "data": {
      "image/png": "[encoded data removed]",
      "text/plain": [
       "<Figure size 699.875x216 with 1 Axes>"
      ]
     },
     "metadata": {
      "needs_background": "light"
     },
     "output_type": "display_data"
    }
   ],
   "source": [
    "ageFacet = sns.FacetGrid(train_dt,hue = \"Survived\",aspect = 3)\n",
    "ageFacet.map(sns.kdeplot,\"Fare\",shade = True)\n",
    "ageFacet.add_legend()\n",
    "ageFacet.set(xlim=(0,300)) #0以下移除，取到船票票價 = 300"
   ]
  },
  {
   "cell_type": "markdown",
   "id": "a6d584c0",
   "metadata": {
    "papermill": {
     "duration": 0.020075,
     "end_time": "2022-12-27T06:00:41.981881",
     "exception": false,
     "start_time": "2022-12-27T06:00:41.961806",
     "status": "completed"
    },
    "tags": []
   },
   "source": [
    "# **檢查空值**"
   ]
  },
  {
   "cell_type": "code",
   "execution_count": 17,
   "id": "d4287481",
   "metadata": {
    "execution": {
     "iopub.execute_input": "2022-12-27T06:00:42.023743Z",
     "iopub.status.busy": "2022-12-27T06:00:42.023279Z",
     "iopub.status.idle": "2022-12-27T06:00:42.048757Z",
     "shell.execute_reply": "2022-12-27T06:00:42.047322Z"
    },
    "papermill": {
     "duration": 0.049633,
     "end_time": "2022-12-27T06:00:42.051415",
     "exception": false,
     "start_time": "2022-12-27T06:00:42.001782",
     "status": "completed"
    },
    "tags": []
   },
   "outputs": [
    {
     "data": {
      "text/html": [
       "<div>\n",
       "<style scoped>\n",
       "    .dataframe tbody tr th:only-of-type {\n",
       "        vertical-align: middle;\n",
       "    }\n",
       "\n",
       "    .dataframe tbody tr th {\n",
       "        vertical-align: top;\n",
       "    }\n",
       "\n",
       "    .dataframe thead th {\n",
       "        text-align: right;\n",
       "    }\n",
       "</style>\n",
       "<table border=\"1\" class=\"dataframe\">\n",
       "  <thead>\n",
       "    <tr style=\"text-align: right;\">\n",
       "      <th></th>\n",
       "      <th>PassengerId</th>\n",
       "      <th>Survived</th>\n",
       "      <th>Pclass</th>\n",
       "      <th>Name</th>\n",
       "      <th>Sex</th>\n",
       "      <th>Age</th>\n",
       "      <th>SibSp</th>\n",
       "      <th>Parch</th>\n",
       "      <th>Ticket</th>\n",
       "      <th>Fare</th>\n",
       "      <th>Cabin</th>\n",
       "      <th>Embarked</th>\n",
       "    </tr>\n",
       "  </thead>\n",
       "  <tbody>\n",
       "    <tr>\n",
       "      <th>0</th>\n",
       "      <td>False</td>\n",
       "      <td>False</td>\n",
       "      <td>False</td>\n",
       "      <td>False</td>\n",
       "      <td>False</td>\n",
       "      <td>False</td>\n",
       "      <td>False</td>\n",
       "      <td>False</td>\n",
       "      <td>False</td>\n",
       "      <td>False</td>\n",
       "      <td>True</td>\n",
       "      <td>False</td>\n",
       "    </tr>\n",
       "    <tr>\n",
       "      <th>1</th>\n",
       "      <td>False</td>\n",
       "      <td>False</td>\n",
       "      <td>False</td>\n",
       "      <td>False</td>\n",
       "      <td>False</td>\n",
       "      <td>False</td>\n",
       "      <td>False</td>\n",
       "      <td>False</td>\n",
       "      <td>False</td>\n",
       "      <td>False</td>\n",
       "      <td>False</td>\n",
       "      <td>False</td>\n",
       "    </tr>\n",
       "    <tr>\n",
       "      <th>2</th>\n",
       "      <td>False</td>\n",
       "      <td>False</td>\n",
       "      <td>False</td>\n",
       "      <td>False</td>\n",
       "      <td>False</td>\n",
       "      <td>False</td>\n",
       "      <td>False</td>\n",
       "      <td>False</td>\n",
       "      <td>False</td>\n",
       "      <td>False</td>\n",
       "      <td>True</td>\n",
       "      <td>False</td>\n",
       "    </tr>\n",
       "    <tr>\n",
       "      <th>3</th>\n",
       "      <td>False</td>\n",
       "      <td>False</td>\n",
       "      <td>False</td>\n",
       "      <td>False</td>\n",
       "      <td>False</td>\n",
       "      <td>False</td>\n",
       "      <td>False</td>\n",
       "      <td>False</td>\n",
       "      <td>False</td>\n",
       "      <td>False</td>\n",
       "      <td>False</td>\n",
       "      <td>False</td>\n",
       "    </tr>\n",
       "    <tr>\n",
       "      <th>4</th>\n",
       "      <td>False</td>\n",
       "      <td>False</td>\n",
       "      <td>False</td>\n",
       "      <td>False</td>\n",
       "      <td>False</td>\n",
       "      <td>False</td>\n",
       "      <td>False</td>\n",
       "      <td>False</td>\n",
       "      <td>False</td>\n",
       "      <td>False</td>\n",
       "      <td>True</td>\n",
       "      <td>False</td>\n",
       "    </tr>\n",
       "    <tr>\n",
       "      <th>...</th>\n",
       "      <td>...</td>\n",
       "      <td>...</td>\n",
       "      <td>...</td>\n",
       "      <td>...</td>\n",
       "      <td>...</td>\n",
       "      <td>...</td>\n",
       "      <td>...</td>\n",
       "      <td>...</td>\n",
       "      <td>...</td>\n",
       "      <td>...</td>\n",
       "      <td>...</td>\n",
       "      <td>...</td>\n",
       "    </tr>\n",
       "    <tr>\n",
       "      <th>413</th>\n",
       "      <td>False</td>\n",
       "      <td>True</td>\n",
       "      <td>False</td>\n",
       "      <td>False</td>\n",
       "      <td>False</td>\n",
       "      <td>True</td>\n",
       "      <td>False</td>\n",
       "      <td>False</td>\n",
       "      <td>False</td>\n",
       "      <td>False</td>\n",
       "      <td>True</td>\n",
       "      <td>False</td>\n",
       "    </tr>\n",
       "    <tr>\n",
       "      <th>414</th>\n",
       "      <td>False</td>\n",
       "      <td>True</td>\n",
       "      <td>False</td>\n",
       "      <td>False</td>\n",
       "      <td>False</td>\n",
       "      <td>False</td>\n",
       "      <td>False</td>\n",
       "      <td>False</td>\n",
       "      <td>False</td>\n",
       "      <td>False</td>\n",
       "      <td>False</td>\n",
       "      <td>False</td>\n",
       "    </tr>\n",
       "    <tr>\n",
       "      <th>415</th>\n",
       "      <td>False</td>\n",
       "      <td>True</td>\n",
       "      <td>False</td>\n",
       "      <td>False</td>\n",
       "      <td>False</td>\n",
       "      <td>False</td>\n",
       "      <td>False</td>\n",
       "      <td>False</td>\n",
       "      <td>False</td>\n",
       "      <td>False</td>\n",
       "      <td>True</td>\n",
       "      <td>False</td>\n",
       "    </tr>\n",
       "    <tr>\n",
       "      <th>416</th>\n",
       "      <td>False</td>\n",
       "      <td>True</td>\n",
       "      <td>False</td>\n",
       "      <td>False</td>\n",
       "      <td>False</td>\n",
       "      <td>True</td>\n",
       "      <td>False</td>\n",
       "      <td>False</td>\n",
       "      <td>False</td>\n",
       "      <td>False</td>\n",
       "      <td>True</td>\n",
       "      <td>False</td>\n",
       "    </tr>\n",
       "    <tr>\n",
       "      <th>417</th>\n",
       "      <td>False</td>\n",
       "      <td>True</td>\n",
       "      <td>False</td>\n",
       "      <td>False</td>\n",
       "      <td>False</td>\n",
       "      <td>True</td>\n",
       "      <td>False</td>\n",
       "      <td>False</td>\n",
       "      <td>False</td>\n",
       "      <td>False</td>\n",
       "      <td>True</td>\n",
       "      <td>False</td>\n",
       "    </tr>\n",
       "  </tbody>\n",
       "</table>\n",
       "<p>1309 rows × 12 columns</p>\n",
       "</div>"
      ],
      "text/plain": [
       "     PassengerId  Survived  Pclass   Name    Sex    Age  SibSp  Parch  Ticket  \\\n",
       "0          False     False   False  False  False  False  False  False   False   \n",
       "1          False     False   False  False  False  False  False  False   False   \n",
       "2          False     False   False  False  False  False  False  False   False   \n",
       "3          False     False   False  False  False  False  False  False   False   \n",
       "4          False     False   False  False  False  False  False  False   False   \n",
       "..           ...       ...     ...    ...    ...    ...    ...    ...     ...   \n",
       "413        False      True   False  False  False   True  False  False   False   \n",
       "414        False      True   False  False  False  False  False  False   False   \n",
       "415        False      True   False  False  False  False  False  False   False   \n",
       "416        False      True   False  False  False   True  False  False   False   \n",
       "417        False      True   False  False  False   True  False  False   False   \n",
       "\n",
       "      Fare  Cabin  Embarked  \n",
       "0    False   True     False  \n",
       "1    False  False     False  \n",
       "2    False   True     False  \n",
       "3    False  False     False  \n",
       "4    False   True     False  \n",
       "..     ...    ...       ...  \n",
       "413  False   True     False  \n",
       "414  False  False     False  \n",
       "415  False   True     False  \n",
       "416  False   True     False  \n",
       "417  False   True     False  \n",
       "\n",
       "[1309 rows x 12 columns]"
      ]
     },
     "execution_count": 17,
     "metadata": {},
     "output_type": "execute_result"
    }
   ],
   "source": [
    "full_dt.isnull()"
   ]
  },
  {
   "cell_type": "markdown",
   "id": "498fcc72",
   "metadata": {
    "papermill": {
     "duration": 0.019666,
     "end_time": "2022-12-27T06:00:42.090965",
     "exception": false,
     "start_time": "2022-12-27T06:00:42.071299",
     "status": "completed"
    },
    "tags": []
   },
   "source": [
    "### **1. Embarked** \n",
    "發現 S 的數量佔了絕大多數，因此將Embarked的空值皆填為 S"
   ]
  },
  {
   "cell_type": "code",
   "execution_count": 18,
   "id": "ef15644c",
   "metadata": {
    "execution": {
     "iopub.execute_input": "2022-12-27T06:00:42.134615Z",
     "iopub.status.busy": "2022-12-27T06:00:42.133600Z",
     "iopub.status.idle": "2022-12-27T06:00:42.143677Z",
     "shell.execute_reply": "2022-12-27T06:00:42.142258Z"
    },
    "papermill": {
     "duration": 0.035155,
     "end_time": "2022-12-27T06:00:42.146481",
     "exception": false,
     "start_time": "2022-12-27T06:00:42.111326",
     "status": "completed"
    },
    "tags": []
   },
   "outputs": [
    {
     "data": {
      "text/plain": [
       "S    914\n",
       "C    270\n",
       "Q    123\n",
       "Name: Embarked, dtype: int64"
      ]
     },
     "execution_count": 18,
     "metadata": {},
     "output_type": "execute_result"
    }
   ],
   "source": [
    "full_dt[\"Embarked\"].value_counts()"
   ]
  },
  {
   "cell_type": "markdown",
   "id": "bcd32e00",
   "metadata": {
    "papermill": {
     "duration": 0.019658,
     "end_time": "2022-12-27T06:00:42.186032",
     "exception": false,
     "start_time": "2022-12-27T06:00:42.166374",
     "status": "completed"
    },
    "tags": []
   },
   "source": []
  },
  {
   "cell_type": "code",
   "execution_count": 19,
   "id": "eb0e1633",
   "metadata": {
    "execution": {
     "iopub.execute_input": "2022-12-27T06:00:42.228154Z",
     "iopub.status.busy": "2022-12-27T06:00:42.227709Z",
     "iopub.status.idle": "2022-12-27T06:00:42.244175Z",
     "shell.execute_reply": "2022-12-27T06:00:42.241990Z"
    },
    "papermill": {
     "duration": 0.040501,
     "end_time": "2022-12-27T06:00:42.246814",
     "exception": false,
     "start_time": "2022-12-27T06:00:42.206313",
     "status": "completed"
    },
    "tags": []
   },
   "outputs": [
    {
     "data": {
      "text/html": [
       "<div>\n",
       "<style scoped>\n",
       "    .dataframe tbody tr th:only-of-type {\n",
       "        vertical-align: middle;\n",
       "    }\n",
       "\n",
       "    .dataframe tbody tr th {\n",
       "        vertical-align: top;\n",
       "    }\n",
       "\n",
       "    .dataframe thead th {\n",
       "        text-align: right;\n",
       "    }\n",
       "</style>\n",
       "<table border=\"1\" class=\"dataframe\">\n",
       "  <thead>\n",
       "    <tr style=\"text-align: right;\">\n",
       "      <th></th>\n",
       "      <th>PassengerId</th>\n",
       "      <th>Survived</th>\n",
       "      <th>Pclass</th>\n",
       "      <th>Name</th>\n",
       "      <th>Sex</th>\n",
       "      <th>Age</th>\n",
       "      <th>SibSp</th>\n",
       "      <th>Parch</th>\n",
       "      <th>Ticket</th>\n",
       "      <th>Fare</th>\n",
       "      <th>Cabin</th>\n",
       "      <th>Embarked</th>\n",
       "    </tr>\n",
       "  </thead>\n",
       "  <tbody>\n",
       "    <tr>\n",
       "      <th>61</th>\n",
       "      <td>62</td>\n",
       "      <td>1.0</td>\n",
       "      <td>1</td>\n",
       "      <td>Icard, Miss. Amelie</td>\n",
       "      <td>female</td>\n",
       "      <td>38.0</td>\n",
       "      <td>0</td>\n",
       "      <td>0</td>\n",
       "      <td>113572</td>\n",
       "      <td>80.0</td>\n",
       "      <td>B28</td>\n",
       "      <td>S</td>\n",
       "    </tr>\n",
       "    <tr>\n",
       "      <th>829</th>\n",
       "      <td>830</td>\n",
       "      <td>1.0</td>\n",
       "      <td>1</td>\n",
       "      <td>Stone, Mrs. George Nelson (Martha Evelyn)</td>\n",
       "      <td>female</td>\n",
       "      <td>62.0</td>\n",
       "      <td>0</td>\n",
       "      <td>0</td>\n",
       "      <td>113572</td>\n",
       "      <td>80.0</td>\n",
       "      <td>B28</td>\n",
       "      <td>S</td>\n",
       "    </tr>\n",
       "  </tbody>\n",
       "</table>\n",
       "</div>"
      ],
      "text/plain": [
       "     PassengerId  Survived  Pclass                                       Name  \\\n",
       "61            62       1.0       1                        Icard, Miss. Amelie   \n",
       "829          830       1.0       1  Stone, Mrs. George Nelson (Martha Evelyn)   \n",
       "\n",
       "        Sex   Age  SibSp  Parch  Ticket  Fare Cabin Embarked  \n",
       "61   female  38.0      0      0  113572  80.0   B28        S  \n",
       "829  female  62.0      0      0  113572  80.0   B28        S  "
      ]
     },
     "execution_count": 19,
     "metadata": {},
     "output_type": "execute_result"
    }
   ],
   "source": [
    "full_dt[full_dt[\"Embarked\"].isnull()].fillna(\"S\")"
   ]
  },
  {
   "cell_type": "code",
   "execution_count": 20,
   "id": "43091749",
   "metadata": {
    "execution": {
     "iopub.execute_input": "2022-12-27T06:00:42.289980Z",
     "iopub.status.busy": "2022-12-27T06:00:42.289082Z",
     "iopub.status.idle": "2022-12-27T06:00:42.305569Z",
     "shell.execute_reply": "2022-12-27T06:00:42.304366Z"
    },
    "papermill": {
     "duration": 0.040637,
     "end_time": "2022-12-27T06:00:42.308008",
     "exception": false,
     "start_time": "2022-12-27T06:00:42.267371",
     "status": "completed"
    },
    "tags": []
   },
   "outputs": [
    {
     "data": {
      "text/html": [
       "<div>\n",
       "<style scoped>\n",
       "    .dataframe tbody tr th:only-of-type {\n",
       "        vertical-align: middle;\n",
       "    }\n",
       "\n",
       "    .dataframe tbody tr th {\n",
       "        vertical-align: top;\n",
       "    }\n",
       "\n",
       "    .dataframe thead th {\n",
       "        text-align: right;\n",
       "    }\n",
       "</style>\n",
       "<table border=\"1\" class=\"dataframe\">\n",
       "  <thead>\n",
       "    <tr style=\"text-align: right;\">\n",
       "      <th></th>\n",
       "      <th>PassengerId</th>\n",
       "      <th>Survived</th>\n",
       "      <th>Pclass</th>\n",
       "      <th>Name</th>\n",
       "      <th>Sex</th>\n",
       "      <th>Age</th>\n",
       "      <th>SibSp</th>\n",
       "      <th>Parch</th>\n",
       "      <th>Ticket</th>\n",
       "      <th>Fare</th>\n",
       "      <th>Cabin</th>\n",
       "      <th>Embarked</th>\n",
       "    </tr>\n",
       "  </thead>\n",
       "  <tbody>\n",
       "    <tr>\n",
       "      <th>61</th>\n",
       "      <td>62</td>\n",
       "      <td>1.0</td>\n",
       "      <td>1</td>\n",
       "      <td>Icard, Miss. Amelie</td>\n",
       "      <td>female</td>\n",
       "      <td>38.0</td>\n",
       "      <td>0</td>\n",
       "      <td>0</td>\n",
       "      <td>113572</td>\n",
       "      <td>80.0</td>\n",
       "      <td>B28</td>\n",
       "      <td>NaN</td>\n",
       "    </tr>\n",
       "    <tr>\n",
       "      <th>829</th>\n",
       "      <td>830</td>\n",
       "      <td>1.0</td>\n",
       "      <td>1</td>\n",
       "      <td>Stone, Mrs. George Nelson (Martha Evelyn)</td>\n",
       "      <td>female</td>\n",
       "      <td>62.0</td>\n",
       "      <td>0</td>\n",
       "      <td>0</td>\n",
       "      <td>113572</td>\n",
       "      <td>80.0</td>\n",
       "      <td>B28</td>\n",
       "      <td>NaN</td>\n",
       "    </tr>\n",
       "  </tbody>\n",
       "</table>\n",
       "</div>"
      ],
      "text/plain": [
       "     PassengerId  Survived  Pclass                                       Name  \\\n",
       "61            62       1.0       1                        Icard, Miss. Amelie   \n",
       "829          830       1.0       1  Stone, Mrs. George Nelson (Martha Evelyn)   \n",
       "\n",
       "        Sex   Age  SibSp  Parch  Ticket  Fare Cabin Embarked  \n",
       "61   female  38.0      0      0  113572  80.0   B28      NaN  \n",
       "829  female  62.0      0      0  113572  80.0   B28      NaN  "
      ]
     },
     "execution_count": 20,
     "metadata": {},
     "output_type": "execute_result"
    }
   ],
   "source": [
    "full_dt[full_dt[\"Embarked\"].isnull()]"
   ]
  },
  {
   "cell_type": "code",
   "execution_count": 21,
   "id": "2aee6eaf",
   "metadata": {
    "execution": {
     "iopub.execute_input": "2022-12-27T06:00:42.350881Z",
     "iopub.status.busy": "2022-12-27T06:00:42.349431Z",
     "iopub.status.idle": "2022-12-27T06:00:42.357480Z",
     "shell.execute_reply": "2022-12-27T06:00:42.356056Z"
    },
    "papermill": {
     "duration": 0.03192,
     "end_time": "2022-12-27T06:00:42.360094",
     "exception": false,
     "start_time": "2022-12-27T06:00:42.328174",
     "status": "completed"
    },
    "tags": []
   },
   "outputs": [],
   "source": [
    "full_dt[\"Embarked\"]=full_dt[\"Embarked\"].fillna(\"S\")"
   ]
  },
  {
   "cell_type": "markdown",
   "id": "600fef19",
   "metadata": {
    "papermill": {
     "duration": 0.020066,
     "end_time": "2022-12-27T06:00:42.400510",
     "exception": false,
     "start_time": "2022-12-27T06:00:42.380444",
     "status": "completed"
    },
    "tags": []
   },
   "source": [
    "### **2. Fare**"
   ]
  },
  {
   "cell_type": "code",
   "execution_count": 22,
   "id": "90bc4e73",
   "metadata": {
    "execution": {
     "iopub.execute_input": "2022-12-27T06:00:42.444797Z",
     "iopub.status.busy": "2022-12-27T06:00:42.444381Z",
     "iopub.status.idle": "2022-12-27T06:00:42.459789Z",
     "shell.execute_reply": "2022-12-27T06:00:42.458469Z"
    },
    "papermill": {
     "duration": 0.04087,
     "end_time": "2022-12-27T06:00:42.461659",
     "exception": false,
     "start_time": "2022-12-27T06:00:42.420789",
     "status": "completed"
    },
    "tags": []
   },
   "outputs": [
    {
     "data": {
      "text/html": [
       "<div>\n",
       "<style scoped>\n",
       "    .dataframe tbody tr th:only-of-type {\n",
       "        vertical-align: middle;\n",
       "    }\n",
       "\n",
       "    .dataframe tbody tr th {\n",
       "        vertical-align: top;\n",
       "    }\n",
       "\n",
       "    .dataframe thead th {\n",
       "        text-align: right;\n",
       "    }\n",
       "</style>\n",
       "<table border=\"1\" class=\"dataframe\">\n",
       "  <thead>\n",
       "    <tr style=\"text-align: right;\">\n",
       "      <th></th>\n",
       "      <th>PassengerId</th>\n",
       "      <th>Survived</th>\n",
       "      <th>Pclass</th>\n",
       "      <th>Name</th>\n",
       "      <th>Sex</th>\n",
       "      <th>Age</th>\n",
       "      <th>SibSp</th>\n",
       "      <th>Parch</th>\n",
       "      <th>Ticket</th>\n",
       "      <th>Fare</th>\n",
       "      <th>Cabin</th>\n",
       "      <th>Embarked</th>\n",
       "    </tr>\n",
       "  </thead>\n",
       "  <tbody>\n",
       "    <tr>\n",
       "      <th>152</th>\n",
       "      <td>1044</td>\n",
       "      <td>NaN</td>\n",
       "      <td>3</td>\n",
       "      <td>Storey, Mr. Thomas</td>\n",
       "      <td>male</td>\n",
       "      <td>60.5</td>\n",
       "      <td>0</td>\n",
       "      <td>0</td>\n",
       "      <td>3701</td>\n",
       "      <td>NaN</td>\n",
       "      <td>NaN</td>\n",
       "      <td>S</td>\n",
       "    </tr>\n",
       "  </tbody>\n",
       "</table>\n",
       "</div>"
      ],
      "text/plain": [
       "     PassengerId  Survived  Pclass                Name   Sex   Age  SibSp  \\\n",
       "152         1044       NaN       3  Storey, Mr. Thomas  male  60.5      0   \n",
       "\n",
       "     Parch Ticket  Fare Cabin Embarked  \n",
       "152      0   3701   NaN   NaN        S  "
      ]
     },
     "execution_count": 22,
     "metadata": {},
     "output_type": "execute_result"
    }
   ],
   "source": [
    "full_dt[full_dt[\"Fare\"].isnull()]"
   ]
  },
  {
   "cell_type": "code",
   "execution_count": 23,
   "id": "d9a04e11",
   "metadata": {
    "execution": {
     "iopub.execute_input": "2022-12-27T06:00:42.504516Z",
     "iopub.status.busy": "2022-12-27T06:00:42.503948Z",
     "iopub.status.idle": "2022-12-27T06:00:42.511743Z",
     "shell.execute_reply": "2022-12-27T06:00:42.510854Z"
    },
    "papermill": {
     "duration": 0.03182,
     "end_time": "2022-12-27T06:00:42.514145",
     "exception": false,
     "start_time": "2022-12-27T06:00:42.482325",
     "status": "completed"
    },
    "tags": []
   },
   "outputs": [],
   "source": [
    "a = round(full_dt[(full_dt[\"Pclass\"]== 3) & (full_dt[\"Embarked\"]== \"S\")][\"Fare\"].mean(),3)\n",
    "full_dt[\"Fare\"] = full_dt[\"Fare\"].fillna(a)"
   ]
  },
  {
   "cell_type": "code",
   "execution_count": 24,
   "id": "662c38ce",
   "metadata": {
    "execution": {
     "iopub.execute_input": "2022-12-27T06:00:42.557681Z",
     "iopub.status.busy": "2022-12-27T06:00:42.557003Z",
     "iopub.status.idle": "2022-12-27T06:00:42.564456Z",
     "shell.execute_reply": "2022-12-27T06:00:42.562418Z"
    },
    "papermill": {
     "duration": 0.032706,
     "end_time": "2022-12-27T06:00:42.567416",
     "exception": false,
     "start_time": "2022-12-27T06:00:42.534710",
     "status": "completed"
    },
    "tags": []
   },
   "outputs": [],
   "source": [
    "a = round(full_dt[(full_dt[\"Pclass\"]== 3) & (full_dt[\"Embarked\"]== \"S\")][\"Fare\"].mean(),3)"
   ]
  },
  {
   "cell_type": "markdown",
   "id": "7346248a",
   "metadata": {
    "papermill": {
     "duration": 0.019881,
     "end_time": "2022-12-27T06:00:42.607601",
     "exception": false,
     "start_time": "2022-12-27T06:00:42.587720",
     "status": "completed"
    },
    "tags": []
   },
   "source": [
    "### **3. Name**\n",
    "**修改稱謂**"
   ]
  },
  {
   "cell_type": "code",
   "execution_count": 25,
   "id": "f041d66e",
   "metadata": {
    "execution": {
     "iopub.execute_input": "2022-12-27T06:00:42.649707Z",
     "iopub.status.busy": "2022-12-27T06:00:42.649309Z",
     "iopub.status.idle": "2022-12-27T06:00:42.662195Z",
     "shell.execute_reply": "2022-12-27T06:00:42.660904Z"
    },
    "papermill": {
     "duration": 0.036776,
     "end_time": "2022-12-27T06:00:42.664663",
     "exception": false,
     "start_time": "2022-12-27T06:00:42.627887",
     "status": "completed"
    },
    "tags": []
   },
   "outputs": [
    {
     "data": {
      "text/plain": [
       "Mr              757\n",
       "Miss            260\n",
       "Mrs             197\n",
       "Master           61\n",
       "Rev               8\n",
       "Dr                8\n",
       "Col               4\n",
       "Mlle              2\n",
       "Major             2\n",
       "Ms                2\n",
       "Lady              1\n",
       "Sir               1\n",
       "Mme               1\n",
       "Don               1\n",
       "Capt              1\n",
       "the Countess      1\n",
       "Jonkheer          1\n",
       "Dona              1\n",
       "Name: Title, dtype: int64"
      ]
     },
     "execution_count": 25,
     "metadata": {},
     "output_type": "execute_result"
    }
   ],
   "source": [
    "full_dt[\"Title\"] = full_dt[\"Name\"].map(lambda x:x.split(\",\")[1].split(\".\")[0].strip())\n",
    "full_dt[\"Title\"].value_counts()"
   ]
  },
  {
   "cell_type": "code",
   "execution_count": 26,
   "id": "0e944987",
   "metadata": {
    "execution": {
     "iopub.execute_input": "2022-12-27T06:00:42.710177Z",
     "iopub.status.busy": "2022-12-27T06:00:42.708801Z",
     "iopub.status.idle": "2022-12-27T06:00:42.717806Z",
     "shell.execute_reply": "2022-12-27T06:00:42.717033Z"
    },
    "papermill": {
     "duration": 0.034644,
     "end_time": "2022-12-27T06:00:42.719654",
     "exception": false,
     "start_time": "2022-12-27T06:00:42.685010",
     "status": "completed"
    },
    "tags": []
   },
   "outputs": [
    {
     "data": {
      "text/plain": [
       "1309"
      ]
     },
     "execution_count": 26,
     "metadata": {},
     "output_type": "execute_result"
    }
   ],
   "source": [
    "full_dt[\"Title\"].value_counts().sum()"
   ]
  },
  {
   "cell_type": "code",
   "execution_count": 27,
   "id": "c03108c0",
   "metadata": {
    "execution": {
     "iopub.execute_input": "2022-12-27T06:00:42.762054Z",
     "iopub.status.busy": "2022-12-27T06:00:42.761426Z",
     "iopub.status.idle": "2022-12-27T06:00:42.774889Z",
     "shell.execute_reply": "2022-12-27T06:00:42.773268Z"
    },
    "papermill": {
     "duration": 0.03736,
     "end_time": "2022-12-27T06:00:42.777234",
     "exception": false,
     "start_time": "2022-12-27T06:00:42.739874",
     "status": "completed"
    },
    "tags": []
   },
   "outputs": [
    {
     "data": {
      "text/plain": [
       "Mr         757\n",
       "Miss       260\n",
       "Mrs        200\n",
       "Master      62\n",
       "Officer     23\n",
       "Royalty      5\n",
       "Name: Title, dtype: int64"
      ]
     },
     "execution_count": 27,
     "metadata": {},
     "output_type": "execute_result"
    }
   ],
   "source": [
    "TitleDict={}\n",
    "TitleDict ['Mr']='Mr'\n",
    "TitleDict ['MIle']='Miss'\n",
    "TitleDict['Miss']='Miss'\n",
    "TitleDict ['Master']= 'Master'\n",
    "TitleDict['Jonkheer' ]='Master'\n",
    "TitleDict ['Mme']='Mrs'\n",
    "TitleDict ['Ms' ]='Mrs'\n",
    "TitleDict['Mrs']='Mrs'\n",
    "TitleDict ['Don']= 'Royalty'\n",
    "TitleDict['Sir']='Royalty'\n",
    "TitleDict['the Countess']='Royalty'\n",
    "TitleDict['Dona']= 'Royalty'\n",
    "TitleDict['Lady']= 'Royalty'\n",
    "TitleDict ['Capt']= 'Officer'\n",
    "TitleDict['Col']='Officer'\n",
    "TitleDict ['Major']= 'Officer'\n",
    "TitleDict['Dr']= 'Officer'\n",
    "TitleDict ['Rev']= 'Officer'\n",
    "\n",
    "full_dt['Title']=full_dt['Title'].map(TitleDict)\n",
    "full_dt[ 'Title'].value_counts()"
   ]
  },
  {
   "cell_type": "code",
   "execution_count": 28,
   "id": "a61ab39f",
   "metadata": {
    "execution": {
     "iopub.execute_input": "2022-12-27T06:00:42.819844Z",
     "iopub.status.busy": "2022-12-27T06:00:42.818845Z",
     "iopub.status.idle": "2022-12-27T06:00:42.824833Z",
     "shell.execute_reply": "2022-12-27T06:00:42.824009Z"
    },
    "papermill": {
     "duration": 0.029889,
     "end_time": "2022-12-27T06:00:42.827225",
     "exception": false,
     "start_time": "2022-12-27T06:00:42.797336",
     "status": "completed"
    },
    "tags": []
   },
   "outputs": [],
   "source": [
    "full_dt.iloc[641,12]  = \"Miss\"\n",
    "full_dt.iloc[710,12] = \"Mrs\""
   ]
  },
  {
   "cell_type": "code",
   "execution_count": 29,
   "id": "89a6f7ae",
   "metadata": {
    "execution": {
     "iopub.execute_input": "2022-12-27T06:00:42.871018Z",
     "iopub.status.busy": "2022-12-27T06:00:42.870556Z",
     "iopub.status.idle": "2022-12-27T06:00:43.150732Z",
     "shell.execute_reply": "2022-12-27T06:00:43.149824Z"
    },
    "papermill": {
     "duration": 0.305081,
     "end_time": "2022-12-27T06:00:43.152875",
     "exception": false,
     "start_time": "2022-12-27T06:00:42.847794",
     "status": "completed"
    },
    "tags": []
   },
   "outputs": [
    {
     "data": {
      "text/plain": [
       "<AxesSubplot:xlabel='Title', ylabel='Survived'>"
      ]
     },
     "execution_count": 29,
     "metadata": {},
     "output_type": "execute_result"
    },
    {
     "data": {
      "image/png": "[encoded data removed]",
      "text/plain": [
       "<Figure size 432x288 with 1 Axes>"
      ]
     },
     "metadata": {
      "needs_background": "light"
     },
     "output_type": "display_data"
    }
   ],
   "source": [
    "sns.barplot(data=full_dt,x = \"Title\",y = \"Survived\")"
   ]
  },
  {
   "cell_type": "markdown",
   "id": "00405349",
   "metadata": {
    "papermill": {
     "duration": 0.021205,
     "end_time": "2022-12-27T06:00:43.197590",
     "exception": false,
     "start_time": "2022-12-27T06:00:43.176385",
     "status": "completed"
    },
    "tags": []
   },
   "source": [
    "### **4. Parch & SibSp**\n",
    "**合併家庭人口數**"
   ]
  },
  {
   "cell_type": "code",
   "execution_count": 30,
   "id": "6ca78435",
   "metadata": {
    "execution": {
     "iopub.execute_input": "2022-12-27T06:00:43.242987Z",
     "iopub.status.busy": "2022-12-27T06:00:43.242606Z",
     "iopub.status.idle": "2022-12-27T06:00:43.249139Z",
     "shell.execute_reply": "2022-12-27T06:00:43.248043Z"
    },
    "papermill": {
     "duration": 0.032693,
     "end_time": "2022-12-27T06:00:43.251793",
     "exception": false,
     "start_time": "2022-12-27T06:00:43.219100",
     "status": "completed"
    },
    "tags": []
   },
   "outputs": [],
   "source": [
    "full_dt[\"FamilyNum\"] =full_dt[\"Parch\"]+full_dt[\"SibSp\"] + 1"
   ]
  },
  {
   "cell_type": "code",
   "execution_count": 31,
   "id": "9b5c3934",
   "metadata": {
    "execution": {
     "iopub.execute_input": "2022-12-27T06:00:43.297151Z",
     "iopub.status.busy": "2022-12-27T06:00:43.295886Z",
     "iopub.status.idle": "2022-12-27T06:00:43.645959Z",
     "shell.execute_reply": "2022-12-27T06:00:43.645155Z"
    },
    "papermill": {
     "duration": 0.375057,
     "end_time": "2022-12-27T06:00:43.648231",
     "exception": false,
     "start_time": "2022-12-27T06:00:43.273174",
     "status": "completed"
    },
    "tags": []
   },
   "outputs": [
    {
     "data": {
      "text/plain": [
       "<AxesSubplot:xlabel='FamilyNum', ylabel='Survived'>"
      ]
     },
     "execution_count": 31,
     "metadata": {},
     "output_type": "execute_result"
    },
    {
     "data": {
      "image/png": "[encoded data removed]",
      "text/plain": [
       "<Figure size 432x288 with 1 Axes>"
      ]
     },
     "metadata": {
      "needs_background": "light"
     },
     "output_type": "display_data"
    }
   ],
   "source": [
    "sns.barplot(data=full_dt,x = \"FamilyNum\",y = \"Survived\")"
   ]
  },
  {
   "cell_type": "code",
   "execution_count": 32,
   "id": "e1f27465",
   "metadata": {
    "execution": {
     "iopub.execute_input": "2022-12-27T06:00:43.696035Z",
     "iopub.status.busy": "2022-12-27T06:00:43.694728Z",
     "iopub.status.idle": "2022-12-27T06:00:43.707569Z",
     "shell.execute_reply": "2022-12-27T06:00:43.706297Z"
    },
    "papermill": {
     "duration": 0.038934,
     "end_time": "2022-12-27T06:00:43.710400",
     "exception": false,
     "start_time": "2022-12-27T06:00:43.671466",
     "status": "completed"
    },
    "tags": []
   },
   "outputs": [
    {
     "data": {
      "text/plain": [
       "0    790\n",
       "1    437\n",
       "2     82\n",
       "Name: FamilySize, dtype: int64"
      ]
     },
     "execution_count": 32,
     "metadata": {},
     "output_type": "execute_result"
    }
   ],
   "source": [
    "def familysize(familyNum):\n",
    "    if familyNum ==1 :\n",
    "        return 0\n",
    "    elif 2<= familyNum <= 4:\n",
    "        return 1\n",
    "    else:\n",
    "        return 2\n",
    "full_dt[\"FamilySize\"] = full_dt[\"FamilyNum\"].map(familysize)\n",
    "full_dt[\"FamilySize\"].value_counts()"
   ]
  },
  {
   "cell_type": "code",
   "execution_count": 33,
   "id": "c7ff330a",
   "metadata": {
    "execution": {
     "iopub.execute_input": "2022-12-27T06:00:43.757893Z",
     "iopub.status.busy": "2022-12-27T06:00:43.756669Z",
     "iopub.status.idle": "2022-12-27T06:00:43.983766Z",
     "shell.execute_reply": "2022-12-27T06:00:43.982941Z"
    },
    "papermill": {
     "duration": 0.252905,
     "end_time": "2022-12-27T06:00:43.986269",
     "exception": false,
     "start_time": "2022-12-27T06:00:43.733364",
     "status": "completed"
    },
    "tags": []
   },
   "outputs": [
    {
     "data": {
      "text/plain": [
       "<AxesSubplot:xlabel='FamilySize', ylabel='Survived'>"
      ]
     },
     "execution_count": 33,
     "metadata": {},
     "output_type": "execute_result"
    },
    {
     "data": {
      "image/png": "[encoded data removed]",
      "text/plain": [
       "<Figure size 432x288 with 1 Axes>"
      ]
     },
     "metadata": {
      "needs_background": "light"
     },
     "output_type": "display_data"
    }
   ],
   "source": [
    "sns.barplot(data=full_dt,x = \"FamilySize\",y = \"Survived\")"
   ]
  },
  {
   "cell_type": "markdown",
   "id": "88c50811",
   "metadata": {
    "execution": {
     "iopub.execute_input": "2022-12-22T10:22:13.719169Z",
     "iopub.status.busy": "2022-12-22T10:22:13.718424Z",
     "iopub.status.idle": "2022-12-22T10:22:13.741228Z",
     "shell.execute_reply": "2022-12-22T10:22:13.739536Z",
     "shell.execute_reply.started": "2022-12-22T10:22:13.719121Z"
    },
    "papermill": {
     "duration": 0.022179,
     "end_time": "2022-12-27T06:00:44.032078",
     "exception": false,
     "start_time": "2022-12-27T06:00:44.009899",
     "status": "completed"
    },
    "tags": []
   },
   "source": [
    "### **5. Ticket**"
   ]
  },
  {
   "cell_type": "code",
   "execution_count": 34,
   "id": "83b2480d",
   "metadata": {
    "execution": {
     "iopub.execute_input": "2022-12-27T06:00:44.079220Z",
     "iopub.status.busy": "2022-12-27T06:00:44.078652Z",
     "iopub.status.idle": "2022-12-27T06:00:44.087993Z",
     "shell.execute_reply": "2022-12-27T06:00:44.087121Z"
    },
    "papermill": {
     "duration": 0.035512,
     "end_time": "2022-12-27T06:00:44.090106",
     "exception": false,
     "start_time": "2022-12-27T06:00:44.054594",
     "status": "completed"
    },
    "tags": []
   },
   "outputs": [
    {
     "data": {
      "text/plain": [
       "CA. 2343        11\n",
       "CA 2144          8\n",
       "1601             8\n",
       "PC 17608         7\n",
       "S.O.C. 14879     7\n",
       "                ..\n",
       "113792           1\n",
       "36209            1\n",
       "323592           1\n",
       "315089           1\n",
       "359309           1\n",
       "Name: Ticket, Length: 929, dtype: int64"
      ]
     },
     "execution_count": 34,
     "metadata": {},
     "output_type": "execute_result"
    }
   ],
   "source": [
    "full_dt[\"Ticket\"].value_counts()"
   ]
  },
  {
   "cell_type": "code",
   "execution_count": 35,
   "id": "0da13b9b",
   "metadata": {
    "execution": {
     "iopub.execute_input": "2022-12-27T06:00:44.136214Z",
     "iopub.status.busy": "2022-12-27T06:00:44.135459Z",
     "iopub.status.idle": "2022-12-27T06:00:44.144684Z",
     "shell.execute_reply": "2022-12-27T06:00:44.143710Z"
    },
    "papermill": {
     "duration": 0.034788,
     "end_time": "2022-12-27T06:00:44.146754",
     "exception": false,
     "start_time": "2022-12-27T06:00:44.111966",
     "status": "completed"
    },
    "tags": []
   },
   "outputs": [
    {
     "data": {
      "text/plain": [
       "CA. 2343        11\n",
       "CA 2144          8\n",
       "1601             8\n",
       "PC 17608         7\n",
       "S.O.C. 14879     7\n",
       "Name: Ticket, dtype: int64"
      ]
     },
     "execution_count": 35,
     "metadata": {},
     "output_type": "execute_result"
    }
   ],
   "source": [
    "TicketCountDict = {}\n",
    "TicketCountDict = full_dt[\"Ticket\"].value_counts()\n",
    "TicketCountDict.head()"
   ]
  },
  {
   "cell_type": "code",
   "execution_count": 36,
   "id": "93a2db74",
   "metadata": {
    "execution": {
     "iopub.execute_input": "2022-12-27T06:00:44.192470Z",
     "iopub.status.busy": "2022-12-27T06:00:44.191783Z",
     "iopub.status.idle": "2022-12-27T06:00:44.201339Z",
     "shell.execute_reply": "2022-12-27T06:00:44.200394Z"
    },
    "papermill": {
     "duration": 0.034996,
     "end_time": "2022-12-27T06:00:44.203376",
     "exception": false,
     "start_time": "2022-12-27T06:00:44.168380",
     "status": "completed"
    },
    "tags": []
   },
   "outputs": [
    {
     "data": {
      "text/plain": [
       "0      1\n",
       "1      2\n",
       "2      1\n",
       "3      2\n",
       "4      1\n",
       "      ..\n",
       "413    1\n",
       "414    3\n",
       "415    1\n",
       "416    1\n",
       "417    3\n",
       "Name: TickCot, Length: 1309, dtype: int64"
      ]
     },
     "execution_count": 36,
     "metadata": {},
     "output_type": "execute_result"
    }
   ],
   "source": [
    "full_dt[\"TickCot\"] = full_dt[\"Ticket\"].map(TicketCountDict)\n",
    "full_dt[\"TickCot\"]"
   ]
  },
  {
   "cell_type": "code",
   "execution_count": 37,
   "id": "1a2f30db",
   "metadata": {
    "execution": {
     "iopub.execute_input": "2022-12-27T06:00:44.249242Z",
     "iopub.status.busy": "2022-12-27T06:00:44.248678Z",
     "iopub.status.idle": "2022-12-27T06:00:44.624210Z",
     "shell.execute_reply": "2022-12-27T06:00:44.621817Z"
    },
    "papermill": {
     "duration": 0.402448,
     "end_time": "2022-12-27T06:00:44.627601",
     "exception": false,
     "start_time": "2022-12-27T06:00:44.225153",
     "status": "completed"
    },
    "tags": []
   },
   "outputs": [
    {
     "data": {
      "text/plain": [
       "<AxesSubplot:xlabel='TickCot', ylabel='Survived'>"
      ]
     },
     "execution_count": 37,
     "metadata": {},
     "output_type": "execute_result"
    },
    {
     "data": {
      "image/png": "[encoded data removed]",
      "text/plain": [
       "<Figure size 432x288 with 1 Axes>"
      ]
     },
     "metadata": {
      "needs_background": "light"
     },
     "output_type": "display_data"
    }
   ],
   "source": [
    "sns.barplot(data=full_dt,x = \"TickCot\",y = \"Survived\")"
   ]
  },
  {
   "cell_type": "code",
   "execution_count": 38,
   "id": "c2eace46",
   "metadata": {
    "execution": {
     "iopub.execute_input": "2022-12-27T06:00:44.677077Z",
     "iopub.status.busy": "2022-12-27T06:00:44.676654Z",
     "iopub.status.idle": "2022-12-27T06:00:44.688393Z",
     "shell.execute_reply": "2022-12-27T06:00:44.686504Z"
    },
    "papermill": {
     "duration": 0.040106,
     "end_time": "2022-12-27T06:00:44.691488",
     "exception": false,
     "start_time": "2022-12-27T06:00:44.651382",
     "status": "completed"
    },
    "tags": []
   },
   "outputs": [
    {
     "data": {
      "text/plain": [
       "1    823\n",
       "0    475\n",
       "2     11\n",
       "Name: TicketGp, dtype: int64"
      ]
     },
     "execution_count": 38,
     "metadata": {},
     "output_type": "execute_result"
    }
   ],
   "source": [
    "def TicketGroup(Ticket):\n",
    "    if 2<= Ticket <= 4 :\n",
    "        return 0\n",
    "    elif (Ticket == 1) | (5 <= Ticket <=8):\n",
    "        return 1\n",
    "    else:\n",
    "        return 2\n",
    "full_dt[\"TicketGp\"] = full_dt[\"TickCot\"].map(TicketGroup)\n",
    "full_dt[\"TicketGp\"].value_counts()"
   ]
  },
  {
   "cell_type": "code",
   "execution_count": 39,
   "id": "03fda6ef",
   "metadata": {
    "execution": {
     "iopub.execute_input": "2022-12-27T06:00:44.740658Z",
     "iopub.status.busy": "2022-12-27T06:00:44.739150Z",
     "iopub.status.idle": "2022-12-27T06:00:44.962350Z",
     "shell.execute_reply": "2022-12-27T06:00:44.961051Z"
    },
    "papermill": {
     "duration": 0.249938,
     "end_time": "2022-12-27T06:00:44.965242",
     "exception": false,
     "start_time": "2022-12-27T06:00:44.715304",
     "status": "completed"
    },
    "tags": []
   },
   "outputs": [
    {
     "data": {
      "text/plain": [
       "<AxesSubplot:xlabel='TicketGp', ylabel='Survived'>"
      ]
     },
     "execution_count": 39,
     "metadata": {},
     "output_type": "execute_result"
    },
    {
     "data": {
      "image/png": "[encoded data removed]",
      "text/plain": [
       "<Figure size 432x288 with 1 Axes>"
      ]
     },
     "metadata": {
      "needs_background": "light"
     },
     "output_type": "display_data"
    }
   ],
   "source": [
    "sns.barplot(data=full_dt,x = \"TicketGp\",y = \"Survived\")"
   ]
  },
  {
   "cell_type": "code",
   "execution_count": 40,
   "id": "3e7157c2",
   "metadata": {
    "execution": {
     "iopub.execute_input": "2022-12-27T06:00:45.015643Z",
     "iopub.status.busy": "2022-12-27T06:00:45.015196Z",
     "iopub.status.idle": "2022-12-27T06:00:45.034800Z",
     "shell.execute_reply": "2022-12-27T06:00:45.033595Z"
    },
    "papermill": {
     "duration": 0.047293,
     "end_time": "2022-12-27T06:00:45.036956",
     "exception": false,
     "start_time": "2022-12-27T06:00:44.989663",
     "status": "completed"
    },
    "tags": []
   },
   "outputs": [
    {
     "data": {
      "text/html": [
       "<div>\n",
       "<style scoped>\n",
       "    .dataframe tbody tr th:only-of-type {\n",
       "        vertical-align: middle;\n",
       "    }\n",
       "\n",
       "    .dataframe tbody tr th {\n",
       "        vertical-align: top;\n",
       "    }\n",
       "\n",
       "    .dataframe thead th {\n",
       "        text-align: right;\n",
       "    }\n",
       "</style>\n",
       "<table border=\"1\" class=\"dataframe\">\n",
       "  <thead>\n",
       "    <tr style=\"text-align: right;\">\n",
       "      <th></th>\n",
       "      <th>PassengerId</th>\n",
       "      <th>Survived</th>\n",
       "      <th>Pclass</th>\n",
       "      <th>Name</th>\n",
       "      <th>Sex</th>\n",
       "      <th>Age</th>\n",
       "      <th>SibSp</th>\n",
       "      <th>Parch</th>\n",
       "      <th>Ticket</th>\n",
       "      <th>Fare</th>\n",
       "      <th>Cabin</th>\n",
       "      <th>Embarked</th>\n",
       "      <th>Title</th>\n",
       "      <th>FamilyNum</th>\n",
       "      <th>FamilySize</th>\n",
       "      <th>TickCot</th>\n",
       "      <th>TicketGp</th>\n",
       "    </tr>\n",
       "  </thead>\n",
       "  <tbody>\n",
       "    <tr>\n",
       "      <th>0</th>\n",
       "      <td>1</td>\n",
       "      <td>0.0</td>\n",
       "      <td>3</td>\n",
       "      <td>Braund, Mr. Owen Harris</td>\n",
       "      <td>male</td>\n",
       "      <td>22.0</td>\n",
       "      <td>1</td>\n",
       "      <td>0</td>\n",
       "      <td>A/5 21171</td>\n",
       "      <td>7.2500</td>\n",
       "      <td>NaN</td>\n",
       "      <td>S</td>\n",
       "      <td>Mr</td>\n",
       "      <td>2</td>\n",
       "      <td>1</td>\n",
       "      <td>1</td>\n",
       "      <td>1</td>\n",
       "    </tr>\n",
       "    <tr>\n",
       "      <th>1</th>\n",
       "      <td>2</td>\n",
       "      <td>1.0</td>\n",
       "      <td>1</td>\n",
       "      <td>Cumings, Mrs. John Bradley (Florence Briggs Th...</td>\n",
       "      <td>female</td>\n",
       "      <td>38.0</td>\n",
       "      <td>1</td>\n",
       "      <td>0</td>\n",
       "      <td>PC 17599</td>\n",
       "      <td>71.2833</td>\n",
       "      <td>C85</td>\n",
       "      <td>C</td>\n",
       "      <td>Mrs</td>\n",
       "      <td>2</td>\n",
       "      <td>1</td>\n",
       "      <td>2</td>\n",
       "      <td>0</td>\n",
       "    </tr>\n",
       "    <tr>\n",
       "      <th>2</th>\n",
       "      <td>3</td>\n",
       "      <td>1.0</td>\n",
       "      <td>3</td>\n",
       "      <td>Heikkinen, Miss. Laina</td>\n",
       "      <td>female</td>\n",
       "      <td>26.0</td>\n",
       "      <td>0</td>\n",
       "      <td>0</td>\n",
       "      <td>STON/O2. 3101282</td>\n",
       "      <td>7.9250</td>\n",
       "      <td>NaN</td>\n",
       "      <td>S</td>\n",
       "      <td>Miss</td>\n",
       "      <td>1</td>\n",
       "      <td>0</td>\n",
       "      <td>1</td>\n",
       "      <td>1</td>\n",
       "    </tr>\n",
       "    <tr>\n",
       "      <th>3</th>\n",
       "      <td>4</td>\n",
       "      <td>1.0</td>\n",
       "      <td>1</td>\n",
       "      <td>Futrelle, Mrs. Jacques Heath (Lily May Peel)</td>\n",
       "      <td>female</td>\n",
       "      <td>35.0</td>\n",
       "      <td>1</td>\n",
       "      <td>0</td>\n",
       "      <td>113803</td>\n",
       "      <td>53.1000</td>\n",
       "      <td>C123</td>\n",
       "      <td>S</td>\n",
       "      <td>Mrs</td>\n",
       "      <td>2</td>\n",
       "      <td>1</td>\n",
       "      <td>2</td>\n",
       "      <td>0</td>\n",
       "    </tr>\n",
       "    <tr>\n",
       "      <th>4</th>\n",
       "      <td>5</td>\n",
       "      <td>0.0</td>\n",
       "      <td>3</td>\n",
       "      <td>Allen, Mr. William Henry</td>\n",
       "      <td>male</td>\n",
       "      <td>35.0</td>\n",
       "      <td>0</td>\n",
       "      <td>0</td>\n",
       "      <td>373450</td>\n",
       "      <td>8.0500</td>\n",
       "      <td>NaN</td>\n",
       "      <td>S</td>\n",
       "      <td>Mr</td>\n",
       "      <td>1</td>\n",
       "      <td>0</td>\n",
       "      <td>1</td>\n",
       "      <td>1</td>\n",
       "    </tr>\n",
       "  </tbody>\n",
       "</table>\n",
       "</div>"
      ],
      "text/plain": [
       "   PassengerId  Survived  Pclass  \\\n",
       "0            1       0.0       3   \n",
       "1            2       1.0       1   \n",
       "2            3       1.0       3   \n",
       "3            4       1.0       1   \n",
       "4            5       0.0       3   \n",
       "\n",
       "                                                Name     Sex   Age  SibSp  \\\n",
       "0                            Braund, Mr. Owen Harris    male  22.0      1   \n",
       "1  Cumings, Mrs. John Bradley (Florence Briggs Th...  female  38.0      1   \n",
       "2                             Heikkinen, Miss. Laina  female  26.0      0   \n",
       "3       Futrelle, Mrs. Jacques Heath (Lily May Peel)  female  35.0      1   \n",
       "4                           Allen, Mr. William Henry    male  35.0      0   \n",
       "\n",
       "   Parch            Ticket     Fare Cabin Embarked Title  FamilyNum  \\\n",
       "0      0         A/5 21171   7.2500   NaN        S    Mr          2   \n",
       "1      0          PC 17599  71.2833   C85        C   Mrs          2   \n",
       "2      0  STON/O2. 3101282   7.9250   NaN        S  Miss          1   \n",
       "3      0            113803  53.1000  C123        S   Mrs          2   \n",
       "4      0            373450   8.0500   NaN        S    Mr          1   \n",
       "\n",
       "   FamilySize  TickCot  TicketGp  \n",
       "0           1        1         1  \n",
       "1           1        2         0  \n",
       "2           0        1         1  \n",
       "3           1        2         0  \n",
       "4           0        1         1  "
      ]
     },
     "execution_count": 40,
     "metadata": {},
     "output_type": "execute_result"
    }
   ],
   "source": [
    "full_dt.head()"
   ]
  },
  {
   "cell_type": "code",
   "execution_count": 41,
   "id": "09e4a559",
   "metadata": {
    "execution": {
     "iopub.execute_input": "2022-12-27T06:00:45.086974Z",
     "iopub.status.busy": "2022-12-27T06:00:45.086575Z",
     "iopub.status.idle": "2022-12-27T06:00:45.107645Z",
     "shell.execute_reply": "2022-12-27T06:00:45.105802Z"
    },
    "papermill": {
     "duration": 0.048482,
     "end_time": "2022-12-27T06:00:45.109722",
     "exception": false,
     "start_time": "2022-12-27T06:00:45.061240",
     "status": "completed"
    },
    "tags": []
   },
   "outputs": [
    {
     "name": "stdout",
     "output_type": "stream",
     "text": [
      "<class 'pandas.core.frame.DataFrame'>\n",
      "Int64Index: 1309 entries, 0 to 417\n",
      "Data columns (total 17 columns):\n",
      " #   Column       Non-Null Count  Dtype  \n",
      "---  ------       --------------  -----  \n",
      " 0   PassengerId  1309 non-null   int64  \n",
      " 1   Survived     891 non-null    float64\n",
      " 2   Pclass       1309 non-null   int64  \n",
      " 3   Name         1309 non-null   object \n",
      " 4   Sex          1309 non-null   object \n",
      " 5   Age          1046 non-null   float64\n",
      " 6   SibSp        1309 non-null   int64  \n",
      " 7   Parch        1309 non-null   int64  \n",
      " 8   Ticket       1309 non-null   object \n",
      " 9   Fare         1309 non-null   float64\n",
      " 10  Cabin        295 non-null    object \n",
      " 11  Embarked     1309 non-null   object \n",
      " 12  Title        1309 non-null   object \n",
      " 13  FamilyNum    1309 non-null   int64  \n",
      " 14  FamilySize   1309 non-null   int64  \n",
      " 15  TickCot      1309 non-null   int64  \n",
      " 16  TicketGp     1309 non-null   int64  \n",
      "dtypes: float64(3), int64(8), object(6)\n",
      "memory usage: 216.4+ KB\n"
     ]
    }
   ],
   "source": [
    "full_dt.info()"
   ]
  },
  {
   "cell_type": "markdown",
   "id": "6999ec45",
   "metadata": {
    "papermill": {
     "duration": 0.023116,
     "end_time": "2022-12-27T06:00:45.157080",
     "exception": false,
     "start_time": "2022-12-27T06:00:45.133964",
     "status": "completed"
    },
    "tags": []
   },
   "source": [
    "### **填補 Age 空值**"
   ]
  },
  {
   "cell_type": "code",
   "execution_count": 42,
   "id": "c9eddb4c",
   "metadata": {
    "execution": {
     "iopub.execute_input": "2022-12-27T06:00:45.206233Z",
     "iopub.status.busy": "2022-12-27T06:00:45.205793Z",
     "iopub.status.idle": "2022-12-27T06:00:45.236938Z",
     "shell.execute_reply": "2022-12-27T06:00:45.235639Z"
    },
    "papermill": {
     "duration": 0.058617,
     "end_time": "2022-12-27T06:00:45.238971",
     "exception": false,
     "start_time": "2022-12-27T06:00:45.180354",
     "status": "completed"
    },
    "tags": []
   },
   "outputs": [
    {
     "data": {
      "text/html": [
       "<div>\n",
       "<style scoped>\n",
       "    .dataframe tbody tr th:only-of-type {\n",
       "        vertical-align: middle;\n",
       "    }\n",
       "\n",
       "    .dataframe tbody tr th {\n",
       "        vertical-align: top;\n",
       "    }\n",
       "\n",
       "    .dataframe thead th {\n",
       "        text-align: right;\n",
       "    }\n",
       "</style>\n",
       "<table border=\"1\" class=\"dataframe\">\n",
       "  <thead>\n",
       "    <tr style=\"text-align: right;\">\n",
       "      <th></th>\n",
       "      <th>PassengerId</th>\n",
       "      <th>Survived</th>\n",
       "      <th>Pclass</th>\n",
       "      <th>Name</th>\n",
       "      <th>Sex</th>\n",
       "      <th>Age</th>\n",
       "      <th>SibSp</th>\n",
       "      <th>Parch</th>\n",
       "      <th>Ticket</th>\n",
       "      <th>Fare</th>\n",
       "      <th>Cabin</th>\n",
       "      <th>Embarked</th>\n",
       "      <th>Title</th>\n",
       "      <th>FamilyNum</th>\n",
       "      <th>FamilySize</th>\n",
       "      <th>TickCot</th>\n",
       "      <th>TicketGp</th>\n",
       "    </tr>\n",
       "  </thead>\n",
       "  <tbody>\n",
       "    <tr>\n",
       "      <th>5</th>\n",
       "      <td>6</td>\n",
       "      <td>0.0</td>\n",
       "      <td>3</td>\n",
       "      <td>Moran, Mr. James</td>\n",
       "      <td>male</td>\n",
       "      <td>NaN</td>\n",
       "      <td>0</td>\n",
       "      <td>0</td>\n",
       "      <td>330877</td>\n",
       "      <td>8.4583</td>\n",
       "      <td>NaN</td>\n",
       "      <td>Q</td>\n",
       "      <td>Mr</td>\n",
       "      <td>1</td>\n",
       "      <td>0</td>\n",
       "      <td>1</td>\n",
       "      <td>1</td>\n",
       "    </tr>\n",
       "    <tr>\n",
       "      <th>17</th>\n",
       "      <td>18</td>\n",
       "      <td>1.0</td>\n",
       "      <td>2</td>\n",
       "      <td>Williams, Mr. Charles Eugene</td>\n",
       "      <td>male</td>\n",
       "      <td>NaN</td>\n",
       "      <td>0</td>\n",
       "      <td>0</td>\n",
       "      <td>244373</td>\n",
       "      <td>13.0000</td>\n",
       "      <td>NaN</td>\n",
       "      <td>S</td>\n",
       "      <td>Mr</td>\n",
       "      <td>1</td>\n",
       "      <td>0</td>\n",
       "      <td>1</td>\n",
       "      <td>1</td>\n",
       "    </tr>\n",
       "    <tr>\n",
       "      <th>19</th>\n",
       "      <td>20</td>\n",
       "      <td>1.0</td>\n",
       "      <td>3</td>\n",
       "      <td>Masselmani, Mrs. Fatima</td>\n",
       "      <td>female</td>\n",
       "      <td>NaN</td>\n",
       "      <td>0</td>\n",
       "      <td>0</td>\n",
       "      <td>2649</td>\n",
       "      <td>7.2250</td>\n",
       "      <td>NaN</td>\n",
       "      <td>C</td>\n",
       "      <td>Mrs</td>\n",
       "      <td>1</td>\n",
       "      <td>0</td>\n",
       "      <td>1</td>\n",
       "      <td>1</td>\n",
       "    </tr>\n",
       "    <tr>\n",
       "      <th>26</th>\n",
       "      <td>27</td>\n",
       "      <td>0.0</td>\n",
       "      <td>3</td>\n",
       "      <td>Emir, Mr. Farred Chehab</td>\n",
       "      <td>male</td>\n",
       "      <td>NaN</td>\n",
       "      <td>0</td>\n",
       "      <td>0</td>\n",
       "      <td>2631</td>\n",
       "      <td>7.2250</td>\n",
       "      <td>NaN</td>\n",
       "      <td>C</td>\n",
       "      <td>Mr</td>\n",
       "      <td>1</td>\n",
       "      <td>0</td>\n",
       "      <td>1</td>\n",
       "      <td>1</td>\n",
       "    </tr>\n",
       "    <tr>\n",
       "      <th>28</th>\n",
       "      <td>29</td>\n",
       "      <td>1.0</td>\n",
       "      <td>3</td>\n",
       "      <td>O'Dwyer, Miss. Ellen \"Nellie\"</td>\n",
       "      <td>female</td>\n",
       "      <td>NaN</td>\n",
       "      <td>0</td>\n",
       "      <td>0</td>\n",
       "      <td>330959</td>\n",
       "      <td>7.8792</td>\n",
       "      <td>NaN</td>\n",
       "      <td>Q</td>\n",
       "      <td>Miss</td>\n",
       "      <td>1</td>\n",
       "      <td>0</td>\n",
       "      <td>1</td>\n",
       "      <td>1</td>\n",
       "    </tr>\n",
       "    <tr>\n",
       "      <th>...</th>\n",
       "      <td>...</td>\n",
       "      <td>...</td>\n",
       "      <td>...</td>\n",
       "      <td>...</td>\n",
       "      <td>...</td>\n",
       "      <td>...</td>\n",
       "      <td>...</td>\n",
       "      <td>...</td>\n",
       "      <td>...</td>\n",
       "      <td>...</td>\n",
       "      <td>...</td>\n",
       "      <td>...</td>\n",
       "      <td>...</td>\n",
       "      <td>...</td>\n",
       "      <td>...</td>\n",
       "      <td>...</td>\n",
       "      <td>...</td>\n",
       "    </tr>\n",
       "    <tr>\n",
       "      <th>408</th>\n",
       "      <td>1300</td>\n",
       "      <td>NaN</td>\n",
       "      <td>3</td>\n",
       "      <td>Riordan, Miss. Johanna Hannah\"\"</td>\n",
       "      <td>female</td>\n",
       "      <td>NaN</td>\n",
       "      <td>0</td>\n",
       "      <td>0</td>\n",
       "      <td>334915</td>\n",
       "      <td>7.7208</td>\n",
       "      <td>NaN</td>\n",
       "      <td>Q</td>\n",
       "      <td>Miss</td>\n",
       "      <td>1</td>\n",
       "      <td>0</td>\n",
       "      <td>1</td>\n",
       "      <td>1</td>\n",
       "    </tr>\n",
       "    <tr>\n",
       "      <th>410</th>\n",
       "      <td>1302</td>\n",
       "      <td>NaN</td>\n",
       "      <td>3</td>\n",
       "      <td>Naughton, Miss. Hannah</td>\n",
       "      <td>female</td>\n",
       "      <td>NaN</td>\n",
       "      <td>0</td>\n",
       "      <td>0</td>\n",
       "      <td>365237</td>\n",
       "      <td>7.7500</td>\n",
       "      <td>NaN</td>\n",
       "      <td>Q</td>\n",
       "      <td>Miss</td>\n",
       "      <td>1</td>\n",
       "      <td>0</td>\n",
       "      <td>1</td>\n",
       "      <td>1</td>\n",
       "    </tr>\n",
       "    <tr>\n",
       "      <th>413</th>\n",
       "      <td>1305</td>\n",
       "      <td>NaN</td>\n",
       "      <td>3</td>\n",
       "      <td>Spector, Mr. Woolf</td>\n",
       "      <td>male</td>\n",
       "      <td>NaN</td>\n",
       "      <td>0</td>\n",
       "      <td>0</td>\n",
       "      <td>A.5. 3236</td>\n",
       "      <td>8.0500</td>\n",
       "      <td>NaN</td>\n",
       "      <td>S</td>\n",
       "      <td>Mr</td>\n",
       "      <td>1</td>\n",
       "      <td>0</td>\n",
       "      <td>1</td>\n",
       "      <td>1</td>\n",
       "    </tr>\n",
       "    <tr>\n",
       "      <th>416</th>\n",
       "      <td>1308</td>\n",
       "      <td>NaN</td>\n",
       "      <td>3</td>\n",
       "      <td>Ware, Mr. Frederick</td>\n",
       "      <td>male</td>\n",
       "      <td>NaN</td>\n",
       "      <td>0</td>\n",
       "      <td>0</td>\n",
       "      <td>359309</td>\n",
       "      <td>8.0500</td>\n",
       "      <td>NaN</td>\n",
       "      <td>S</td>\n",
       "      <td>Mr</td>\n",
       "      <td>1</td>\n",
       "      <td>0</td>\n",
       "      <td>1</td>\n",
       "      <td>1</td>\n",
       "    </tr>\n",
       "    <tr>\n",
       "      <th>417</th>\n",
       "      <td>1309</td>\n",
       "      <td>NaN</td>\n",
       "      <td>3</td>\n",
       "      <td>Peter, Master. Michael J</td>\n",
       "      <td>male</td>\n",
       "      <td>NaN</td>\n",
       "      <td>1</td>\n",
       "      <td>1</td>\n",
       "      <td>2668</td>\n",
       "      <td>22.3583</td>\n",
       "      <td>NaN</td>\n",
       "      <td>C</td>\n",
       "      <td>Master</td>\n",
       "      <td>3</td>\n",
       "      <td>1</td>\n",
       "      <td>3</td>\n",
       "      <td>0</td>\n",
       "    </tr>\n",
       "  </tbody>\n",
       "</table>\n",
       "<p>263 rows × 17 columns</p>\n",
       "</div>"
      ],
      "text/plain": [
       "     PassengerId  Survived  Pclass                             Name     Sex  \\\n",
       "5              6       0.0       3                 Moran, Mr. James    male   \n",
       "17            18       1.0       2     Williams, Mr. Charles Eugene    male   \n",
       "19            20       1.0       3          Masselmani, Mrs. Fatima  female   \n",
       "26            27       0.0       3          Emir, Mr. Farred Chehab    male   \n",
       "28            29       1.0       3    O'Dwyer, Miss. Ellen \"Nellie\"  female   \n",
       "..           ...       ...     ...                              ...     ...   \n",
       "408         1300       NaN       3  Riordan, Miss. Johanna Hannah\"\"  female   \n",
       "410         1302       NaN       3           Naughton, Miss. Hannah  female   \n",
       "413         1305       NaN       3               Spector, Mr. Woolf    male   \n",
       "416         1308       NaN       3              Ware, Mr. Frederick    male   \n",
       "417         1309       NaN       3         Peter, Master. Michael J    male   \n",
       "\n",
       "     Age  SibSp  Parch     Ticket     Fare Cabin Embarked   Title  FamilyNum  \\\n",
       "5    NaN      0      0     330877   8.4583   NaN        Q      Mr          1   \n",
       "17   NaN      0      0     244373  13.0000   NaN        S      Mr          1   \n",
       "19   NaN      0      0       2649   7.2250   NaN        C     Mrs          1   \n",
       "26   NaN      0      0       2631   7.2250   NaN        C      Mr          1   \n",
       "28   NaN      0      0     330959   7.8792   NaN        Q    Miss          1   \n",
       "..   ...    ...    ...        ...      ...   ...      ...     ...        ...   \n",
       "408  NaN      0      0     334915   7.7208   NaN        Q    Miss          1   \n",
       "410  NaN      0      0     365237   7.7500   NaN        Q    Miss          1   \n",
       "413  NaN      0      0  A.5. 3236   8.0500   NaN        S      Mr          1   \n",
       "416  NaN      0      0     359309   8.0500   NaN        S      Mr          1   \n",
       "417  NaN      1      1       2668  22.3583   NaN        C  Master          3   \n",
       "\n",
       "     FamilySize  TickCot  TicketGp  \n",
       "5             0        1         1  \n",
       "17            0        1         1  \n",
       "19            0        1         1  \n",
       "26            0        1         1  \n",
       "28            0        1         1  \n",
       "..          ...      ...       ...  \n",
       "408           0        1         1  \n",
       "410           0        1         1  \n",
       "413           0        1         1  \n",
       "416           0        1         1  \n",
       "417           1        3         0  \n",
       "\n",
       "[263 rows x 17 columns]"
      ]
     },
     "execution_count": 42,
     "metadata": {},
     "output_type": "execute_result"
    }
   ],
   "source": [
    "full_dt[full_dt[\"Age\"].isnull()]"
   ]
  },
  {
   "cell_type": "code",
   "execution_count": 43,
   "id": "01a4da9c",
   "metadata": {
    "execution": {
     "iopub.execute_input": "2022-12-27T06:00:45.287405Z",
     "iopub.status.busy": "2022-12-27T06:00:45.286999Z",
     "iopub.status.idle": "2022-12-27T06:00:45.297192Z",
     "shell.execute_reply": "2022-12-27T06:00:45.295568Z"
    },
    "papermill": {
     "duration": 0.037913,
     "end_time": "2022-12-27T06:00:45.299856",
     "exception": false,
     "start_time": "2022-12-27T06:00:45.261943",
     "status": "completed"
    },
    "tags": []
   },
   "outputs": [
    {
     "data": {
      "text/plain": [
       "Mr         757\n",
       "Miss       261\n",
       "Mrs        201\n",
       "Master      62\n",
       "Officer     23\n",
       "Royalty      5\n",
       "Name: Title, dtype: int64"
      ]
     },
     "execution_count": 43,
     "metadata": {},
     "output_type": "execute_result"
    }
   ],
   "source": [
    "full_dt[\"Title\"].value_counts()"
   ]
  },
  {
   "cell_type": "code",
   "execution_count": 44,
   "id": "d4d19892",
   "metadata": {
    "execution": {
     "iopub.execute_input": "2022-12-27T06:00:45.350385Z",
     "iopub.status.busy": "2022-12-27T06:00:45.349996Z",
     "iopub.status.idle": "2022-12-27T06:00:46.252800Z",
     "shell.execute_reply": "2022-12-27T06:00:46.251380Z"
    },
    "papermill": {
     "duration": 0.931736,
     "end_time": "2022-12-27T06:00:46.255489",
     "exception": false,
     "start_time": "2022-12-27T06:00:45.323753",
     "status": "completed"
    },
    "tags": []
   },
   "outputs": [
    {
     "data": {
      "text/html": [
       "<div>\n",
       "<style scoped>\n",
       "    .dataframe tbody tr th:only-of-type {\n",
       "        vertical-align: middle;\n",
       "    }\n",
       "\n",
       "    .dataframe tbody tr th {\n",
       "        vertical-align: top;\n",
       "    }\n",
       "\n",
       "    .dataframe thead th {\n",
       "        text-align: right;\n",
       "    }\n",
       "</style>\n",
       "<table border=\"1\" class=\"dataframe\">\n",
       "  <thead>\n",
       "    <tr style=\"text-align: right;\">\n",
       "      <th></th>\n",
       "      <th>PassengerId</th>\n",
       "      <th>Survived</th>\n",
       "      <th>Pclass</th>\n",
       "      <th>Name</th>\n",
       "      <th>Sex</th>\n",
       "      <th>Age</th>\n",
       "      <th>SibSp</th>\n",
       "      <th>Parch</th>\n",
       "      <th>Ticket</th>\n",
       "      <th>Fare</th>\n",
       "      <th>Cabin</th>\n",
       "      <th>Embarked</th>\n",
       "      <th>Title</th>\n",
       "      <th>FamilyNum</th>\n",
       "      <th>FamilySize</th>\n",
       "      <th>TickCot</th>\n",
       "      <th>TicketGp</th>\n",
       "    </tr>\n",
       "  </thead>\n",
       "  <tbody>\n",
       "  </tbody>\n",
       "</table>\n",
       "</div>"
      ],
      "text/plain": [
       "Empty DataFrame\n",
       "Columns: [PassengerId, Survived, Pclass, Name, Sex, Age, SibSp, Parch, Ticket, Fare, Cabin, Embarked, Title, FamilyNum, FamilySize, TickCot, TicketGp]\n",
       "Index: []"
      ]
     },
     "execution_count": 44,
     "metadata": {},
     "output_type": "execute_result"
    }
   ],
   "source": [
    "ID = [\"Mr\", \"Miss\", \"Mrs\", \"Master\", \"Officer\", \"Royalty\"]\n",
    "for title in ID:\n",
    "    for i,name in enumerate (full_dt[full_dt[\"Age\"].isnull()] [\"Title\"]):\n",
    "        if title in name:\n",
    "            mask =  (full_dt[\"Age\"].isnull()) & ( (full_dt[\"Title\"].str.contains(title)))\n",
    "            age_median = full_dt[(full_dt[\"Title\"].str.contains(title))][\"Age\"].median()\n",
    "            full_dt.loc[mask,\"Age\"] = full_dt.loc[mask,\"Age\"].fillna(age_median)\n",
    "full_dt[full_dt[\"Age\"].isnull()]"
   ]
  },
  {
   "cell_type": "code",
   "execution_count": 45,
   "id": "437e58c8",
   "metadata": {
    "execution": {
     "iopub.execute_input": "2022-12-27T06:00:46.307189Z",
     "iopub.status.busy": "2022-12-27T06:00:46.306472Z",
     "iopub.status.idle": "2022-12-27T06:00:46.322764Z",
     "shell.execute_reply": "2022-12-27T06:00:46.320669Z"
    },
    "papermill": {
     "duration": 0.044944,
     "end_time": "2022-12-27T06:00:46.325337",
     "exception": false,
     "start_time": "2022-12-27T06:00:46.280393",
     "status": "completed"
    },
    "tags": []
   },
   "outputs": [
    {
     "name": "stdout",
     "output_type": "stream",
     "text": [
      "<class 'pandas.core.frame.DataFrame'>\n",
      "Int64Index: 1309 entries, 0 to 417\n",
      "Data columns (total 17 columns):\n",
      " #   Column       Non-Null Count  Dtype  \n",
      "---  ------       --------------  -----  \n",
      " 0   PassengerId  1309 non-null   int64  \n",
      " 1   Survived     891 non-null    float64\n",
      " 2   Pclass       1309 non-null   int64  \n",
      " 3   Name         1309 non-null   object \n",
      " 4   Sex          1309 non-null   object \n",
      " 5   Age          1309 non-null   float64\n",
      " 6   SibSp        1309 non-null   int64  \n",
      " 7   Parch        1309 non-null   int64  \n",
      " 8   Ticket       1309 non-null   object \n",
      " 9   Fare         1309 non-null   float64\n",
      " 10  Cabin        295 non-null    object \n",
      " 11  Embarked     1309 non-null   object \n",
      " 12  Title        1309 non-null   object \n",
      " 13  FamilyNum    1309 non-null   int64  \n",
      " 14  FamilySize   1309 non-null   int64  \n",
      " 15  TickCot      1309 non-null   int64  \n",
      " 16  TicketGp     1309 non-null   int64  \n",
      "dtypes: float64(3), int64(8), object(6)\n",
      "memory usage: 216.4+ KB\n"
     ]
    }
   ],
   "source": [
    "full_dt.info()"
   ]
  },
  {
   "cell_type": "markdown",
   "id": "22a26271",
   "metadata": {
    "papermill": {
     "duration": 0.025255,
     "end_time": "2022-12-27T06:00:46.375858",
     "exception": false,
     "start_time": "2022-12-27T06:00:46.350603",
     "status": "completed"
    },
    "tags": []
   },
   "source": [
    "### **處理 剩餘文字**"
   ]
  },
  {
   "cell_type": "code",
   "execution_count": 46,
   "id": "304b7fe0",
   "metadata": {
    "execution": {
     "iopub.execute_input": "2022-12-27T06:00:46.428619Z",
     "iopub.status.busy": "2022-12-27T06:00:46.428154Z",
     "iopub.status.idle": "2022-12-27T06:00:46.436293Z",
     "shell.execute_reply": "2022-12-27T06:00:46.435074Z"
    },
    "papermill": {
     "duration": 0.037372,
     "end_time": "2022-12-27T06:00:46.438794",
     "exception": false,
     "start_time": "2022-12-27T06:00:46.401422",
     "status": "completed"
    },
    "tags": []
   },
   "outputs": [],
   "source": [
    "full_dt[\"Sex\"] = full_dt[\"Sex\"].replace({\"male\":1,\"female\":0})"
   ]
  },
  {
   "cell_type": "code",
   "execution_count": 47,
   "id": "750a1bb8",
   "metadata": {
    "execution": {
     "iopub.execute_input": "2022-12-27T06:00:46.491742Z",
     "iopub.status.busy": "2022-12-27T06:00:46.491017Z",
     "iopub.status.idle": "2022-12-27T06:00:46.500091Z",
     "shell.execute_reply": "2022-12-27T06:00:46.498510Z"
    },
    "papermill": {
     "duration": 0.037256,
     "end_time": "2022-12-27T06:00:46.502224",
     "exception": false,
     "start_time": "2022-12-27T06:00:46.464968",
     "status": "completed"
    },
    "tags": []
   },
   "outputs": [],
   "source": [
    "full_dt[\"Title\"] = full_dt[\"Title\"].replace({\"Mr\": 0 ,\"Miss\":1, \"Mrs\":2, \"Master\":3, \"Officer\":4, \"Royalty\":5})"
   ]
  },
  {
   "cell_type": "code",
   "execution_count": 48,
   "id": "5eb3943d",
   "metadata": {
    "execution": {
     "iopub.execute_input": "2022-12-27T06:00:46.551820Z",
     "iopub.status.busy": "2022-12-27T06:00:46.551392Z",
     "iopub.status.idle": "2022-12-27T06:00:46.559815Z",
     "shell.execute_reply": "2022-12-27T06:00:46.558362Z"
    },
    "papermill": {
     "duration": 0.035988,
     "end_time": "2022-12-27T06:00:46.562043",
     "exception": false,
     "start_time": "2022-12-27T06:00:46.526055",
     "status": "completed"
    },
    "tags": []
   },
   "outputs": [],
   "source": [
    "full_dt[\"Embarked\"] = full_dt[\"Embarked\"].replace({\"C\":0,\"Q\":1,\"S\":2})"
   ]
  },
  {
   "cell_type": "code",
   "execution_count": 49,
   "id": "6f3adf4e",
   "metadata": {
    "execution": {
     "iopub.execute_input": "2022-12-27T06:00:46.612141Z",
     "iopub.status.busy": "2022-12-27T06:00:46.611727Z",
     "iopub.status.idle": "2022-12-27T06:00:46.630478Z",
     "shell.execute_reply": "2022-12-27T06:00:46.629125Z"
    },
    "papermill": {
     "duration": 0.046421,
     "end_time": "2022-12-27T06:00:46.632497",
     "exception": false,
     "start_time": "2022-12-27T06:00:46.586076",
     "status": "completed"
    },
    "tags": []
   },
   "outputs": [
    {
     "data": {
      "text/html": [
       "<div>\n",
       "<style scoped>\n",
       "    .dataframe tbody tr th:only-of-type {\n",
       "        vertical-align: middle;\n",
       "    }\n",
       "\n",
       "    .dataframe tbody tr th {\n",
       "        vertical-align: top;\n",
       "    }\n",
       "\n",
       "    .dataframe thead th {\n",
       "        text-align: right;\n",
       "    }\n",
       "</style>\n",
       "<table border=\"1\" class=\"dataframe\">\n",
       "  <thead>\n",
       "    <tr style=\"text-align: right;\">\n",
       "      <th></th>\n",
       "      <th>PassengerId</th>\n",
       "      <th>Survived</th>\n",
       "      <th>Pclass</th>\n",
       "      <th>Name</th>\n",
       "      <th>Sex</th>\n",
       "      <th>Age</th>\n",
       "      <th>SibSp</th>\n",
       "      <th>Parch</th>\n",
       "      <th>Ticket</th>\n",
       "      <th>Fare</th>\n",
       "      <th>Cabin</th>\n",
       "      <th>Embarked</th>\n",
       "      <th>Title</th>\n",
       "      <th>FamilyNum</th>\n",
       "      <th>FamilySize</th>\n",
       "      <th>TickCot</th>\n",
       "      <th>TicketGp</th>\n",
       "    </tr>\n",
       "  </thead>\n",
       "  <tbody>\n",
       "    <tr>\n",
       "      <th>0</th>\n",
       "      <td>1</td>\n",
       "      <td>0.0</td>\n",
       "      <td>3</td>\n",
       "      <td>Braund, Mr. Owen Harris</td>\n",
       "      <td>1</td>\n",
       "      <td>22.0</td>\n",
       "      <td>1</td>\n",
       "      <td>0</td>\n",
       "      <td>A/5 21171</td>\n",
       "      <td>7.2500</td>\n",
       "      <td>NaN</td>\n",
       "      <td>2</td>\n",
       "      <td>0</td>\n",
       "      <td>2</td>\n",
       "      <td>1</td>\n",
       "      <td>1</td>\n",
       "      <td>1</td>\n",
       "    </tr>\n",
       "    <tr>\n",
       "      <th>1</th>\n",
       "      <td>2</td>\n",
       "      <td>1.0</td>\n",
       "      <td>1</td>\n",
       "      <td>Cumings, Mrs. John Bradley (Florence Briggs Th...</td>\n",
       "      <td>0</td>\n",
       "      <td>38.0</td>\n",
       "      <td>1</td>\n",
       "      <td>0</td>\n",
       "      <td>PC 17599</td>\n",
       "      <td>71.2833</td>\n",
       "      <td>C85</td>\n",
       "      <td>0</td>\n",
       "      <td>2</td>\n",
       "      <td>2</td>\n",
       "      <td>1</td>\n",
       "      <td>2</td>\n",
       "      <td>0</td>\n",
       "    </tr>\n",
       "    <tr>\n",
       "      <th>2</th>\n",
       "      <td>3</td>\n",
       "      <td>1.0</td>\n",
       "      <td>3</td>\n",
       "      <td>Heikkinen, Miss. Laina</td>\n",
       "      <td>0</td>\n",
       "      <td>26.0</td>\n",
       "      <td>0</td>\n",
       "      <td>0</td>\n",
       "      <td>STON/O2. 3101282</td>\n",
       "      <td>7.9250</td>\n",
       "      <td>NaN</td>\n",
       "      <td>2</td>\n",
       "      <td>1</td>\n",
       "      <td>1</td>\n",
       "      <td>0</td>\n",
       "      <td>1</td>\n",
       "      <td>1</td>\n",
       "    </tr>\n",
       "    <tr>\n",
       "      <th>3</th>\n",
       "      <td>4</td>\n",
       "      <td>1.0</td>\n",
       "      <td>1</td>\n",
       "      <td>Futrelle, Mrs. Jacques Heath (Lily May Peel)</td>\n",
       "      <td>0</td>\n",
       "      <td>35.0</td>\n",
       "      <td>1</td>\n",
       "      <td>0</td>\n",
       "      <td>113803</td>\n",
       "      <td>53.1000</td>\n",
       "      <td>C123</td>\n",
       "      <td>2</td>\n",
       "      <td>2</td>\n",
       "      <td>2</td>\n",
       "      <td>1</td>\n",
       "      <td>2</td>\n",
       "      <td>0</td>\n",
       "    </tr>\n",
       "    <tr>\n",
       "      <th>4</th>\n",
       "      <td>5</td>\n",
       "      <td>0.0</td>\n",
       "      <td>3</td>\n",
       "      <td>Allen, Mr. William Henry</td>\n",
       "      <td>1</td>\n",
       "      <td>35.0</td>\n",
       "      <td>0</td>\n",
       "      <td>0</td>\n",
       "      <td>373450</td>\n",
       "      <td>8.0500</td>\n",
       "      <td>NaN</td>\n",
       "      <td>2</td>\n",
       "      <td>0</td>\n",
       "      <td>1</td>\n",
       "      <td>0</td>\n",
       "      <td>1</td>\n",
       "      <td>1</td>\n",
       "    </tr>\n",
       "  </tbody>\n",
       "</table>\n",
       "</div>"
      ],
      "text/plain": [
       "   PassengerId  Survived  Pclass  \\\n",
       "0            1       0.0       3   \n",
       "1            2       1.0       1   \n",
       "2            3       1.0       3   \n",
       "3            4       1.0       1   \n",
       "4            5       0.0       3   \n",
       "\n",
       "                                                Name  Sex   Age  SibSp  Parch  \\\n",
       "0                            Braund, Mr. Owen Harris    1  22.0      1      0   \n",
       "1  Cumings, Mrs. John Bradley (Florence Briggs Th...    0  38.0      1      0   \n",
       "2                             Heikkinen, Miss. Laina    0  26.0      0      0   \n",
       "3       Futrelle, Mrs. Jacques Heath (Lily May Peel)    0  35.0      1      0   \n",
       "4                           Allen, Mr. William Henry    1  35.0      0      0   \n",
       "\n",
       "             Ticket     Fare Cabin  Embarked  Title  FamilyNum  FamilySize  \\\n",
       "0         A/5 21171   7.2500   NaN         2      0          2           1   \n",
       "1          PC 17599  71.2833   C85         0      2          2           1   \n",
       "2  STON/O2. 3101282   7.9250   NaN         2      1          1           0   \n",
       "3            113803  53.1000  C123         2      2          2           1   \n",
       "4            373450   8.0500   NaN         2      0          1           0   \n",
       "\n",
       "   TickCot  TicketGp  \n",
       "0        1         1  \n",
       "1        2         0  \n",
       "2        1         1  \n",
       "3        2         0  \n",
       "4        1         1  "
      ]
     },
     "execution_count": 49,
     "metadata": {},
     "output_type": "execute_result"
    }
   ],
   "source": [
    "full_dt.head()"
   ]
  },
  {
   "cell_type": "markdown",
   "id": "e2251ef1",
   "metadata": {
    "papermill": {
     "duration": 0.02372,
     "end_time": "2022-12-27T06:00:46.680401",
     "exception": false,
     "start_time": "2022-12-27T06:00:46.656681",
     "status": "completed"
    },
    "tags": []
   },
   "source": [
    "### **移除不需要的欄位**"
   ]
  },
  {
   "cell_type": "code",
   "execution_count": 50,
   "id": "61dd118d",
   "metadata": {
    "execution": {
     "iopub.execute_input": "2022-12-27T06:00:46.731640Z",
     "iopub.status.busy": "2022-12-27T06:00:46.730821Z",
     "iopub.status.idle": "2022-12-27T06:00:46.746538Z",
     "shell.execute_reply": "2022-12-27T06:00:46.745547Z"
    },
    "papermill": {
     "duration": 0.04464,
     "end_time": "2022-12-27T06:00:46.749381",
     "exception": false,
     "start_time": "2022-12-27T06:00:46.704741",
     "status": "completed"
    },
    "tags": []
   },
   "outputs": [
    {
     "data": {
      "text/html": [
       "<div>\n",
       "<style scoped>\n",
       "    .dataframe tbody tr th:only-of-type {\n",
       "        vertical-align: middle;\n",
       "    }\n",
       "\n",
       "    .dataframe tbody tr th {\n",
       "        vertical-align: top;\n",
       "    }\n",
       "\n",
       "    .dataframe thead th {\n",
       "        text-align: right;\n",
       "    }\n",
       "</style>\n",
       "<table border=\"1\" class=\"dataframe\">\n",
       "  <thead>\n",
       "    <tr style=\"text-align: right;\">\n",
       "      <th></th>\n",
       "      <th>Survived</th>\n",
       "      <th>Pclass</th>\n",
       "      <th>Sex</th>\n",
       "      <th>Age</th>\n",
       "      <th>SibSp</th>\n",
       "      <th>Parch</th>\n",
       "      <th>Fare</th>\n",
       "      <th>Embarked</th>\n",
       "      <th>Title</th>\n",
       "      <th>FamilySize</th>\n",
       "      <th>TicketGp</th>\n",
       "    </tr>\n",
       "  </thead>\n",
       "  <tbody>\n",
       "    <tr>\n",
       "      <th>0</th>\n",
       "      <td>0.0</td>\n",
       "      <td>3</td>\n",
       "      <td>1</td>\n",
       "      <td>22.0</td>\n",
       "      <td>1</td>\n",
       "      <td>0</td>\n",
       "      <td>7.2500</td>\n",
       "      <td>2</td>\n",
       "      <td>0</td>\n",
       "      <td>1</td>\n",
       "      <td>1</td>\n",
       "    </tr>\n",
       "    <tr>\n",
       "      <th>1</th>\n",
       "      <td>1.0</td>\n",
       "      <td>1</td>\n",
       "      <td>0</td>\n",
       "      <td>38.0</td>\n",
       "      <td>1</td>\n",
       "      <td>0</td>\n",
       "      <td>71.2833</td>\n",
       "      <td>0</td>\n",
       "      <td>2</td>\n",
       "      <td>1</td>\n",
       "      <td>0</td>\n",
       "    </tr>\n",
       "    <tr>\n",
       "      <th>2</th>\n",
       "      <td>1.0</td>\n",
       "      <td>3</td>\n",
       "      <td>0</td>\n",
       "      <td>26.0</td>\n",
       "      <td>0</td>\n",
       "      <td>0</td>\n",
       "      <td>7.9250</td>\n",
       "      <td>2</td>\n",
       "      <td>1</td>\n",
       "      <td>0</td>\n",
       "      <td>1</td>\n",
       "    </tr>\n",
       "    <tr>\n",
       "      <th>3</th>\n",
       "      <td>1.0</td>\n",
       "      <td>1</td>\n",
       "      <td>0</td>\n",
       "      <td>35.0</td>\n",
       "      <td>1</td>\n",
       "      <td>0</td>\n",
       "      <td>53.1000</td>\n",
       "      <td>2</td>\n",
       "      <td>2</td>\n",
       "      <td>1</td>\n",
       "      <td>0</td>\n",
       "    </tr>\n",
       "    <tr>\n",
       "      <th>4</th>\n",
       "      <td>0.0</td>\n",
       "      <td>3</td>\n",
       "      <td>1</td>\n",
       "      <td>35.0</td>\n",
       "      <td>0</td>\n",
       "      <td>0</td>\n",
       "      <td>8.0500</td>\n",
       "      <td>2</td>\n",
       "      <td>0</td>\n",
       "      <td>0</td>\n",
       "      <td>1</td>\n",
       "    </tr>\n",
       "  </tbody>\n",
       "</table>\n",
       "</div>"
      ],
      "text/plain": [
       "   Survived  Pclass  Sex   Age  SibSp  Parch     Fare  Embarked  Title  \\\n",
       "0       0.0       3    1  22.0      1      0   7.2500         2      0   \n",
       "1       1.0       1    0  38.0      1      0  71.2833         0      2   \n",
       "2       1.0       3    0  26.0      0      0   7.9250         2      1   \n",
       "3       1.0       1    0  35.0      1      0  53.1000         2      2   \n",
       "4       0.0       3    1  35.0      0      0   8.0500         2      0   \n",
       "\n",
       "   FamilySize  TicketGp  \n",
       "0           1         1  \n",
       "1           1         0  \n",
       "2           0         1  \n",
       "3           1         0  \n",
       "4           0         1  "
      ]
     },
     "execution_count": 50,
     "metadata": {},
     "output_type": "execute_result"
    }
   ],
   "source": [
    "full_dt_v2 = full_dt\n",
    "full_dt_v2 = full_dt_v2.drop(columns=[\"Cabin\",\"PassengerId\",\"Ticket\",\"FamilyNum\",\"TickCot\",\"Name\"], axis = 1)                                   \n",
    "full_dt_v2.head()                                 "
   ]
  },
  {
   "cell_type": "code",
   "execution_count": 51,
   "id": "bcc5b9a7",
   "metadata": {
    "execution": {
     "iopub.execute_input": "2022-12-27T06:00:46.810013Z",
     "iopub.status.busy": "2022-12-27T06:00:46.808976Z",
     "iopub.status.idle": "2022-12-27T06:00:46.828835Z",
     "shell.execute_reply": "2022-12-27T06:00:46.826990Z"
    },
    "papermill": {
     "duration": 0.056566,
     "end_time": "2022-12-27T06:00:46.832860",
     "exception": false,
     "start_time": "2022-12-27T06:00:46.776294",
     "status": "completed"
    },
    "tags": []
   },
   "outputs": [
    {
     "name": "stdout",
     "output_type": "stream",
     "text": [
      "<class 'pandas.core.frame.DataFrame'>\n",
      "Int64Index: 1309 entries, 0 to 417\n",
      "Data columns (total 11 columns):\n",
      " #   Column      Non-Null Count  Dtype  \n",
      "---  ------      --------------  -----  \n",
      " 0   Survived    891 non-null    float64\n",
      " 1   Pclass      1309 non-null   int64  \n",
      " 2   Sex         1309 non-null   int64  \n",
      " 3   Age         1309 non-null   float64\n",
      " 4   SibSp       1309 non-null   int64  \n",
      " 5   Parch       1309 non-null   int64  \n",
      " 6   Fare        1309 non-null   float64\n",
      " 7   Embarked    1309 non-null   int64  \n",
      " 8   Title       1309 non-null   int64  \n",
      " 9   FamilySize  1309 non-null   int64  \n",
      " 10  TicketGp    1309 non-null   int64  \n",
      "dtypes: float64(3), int64(8)\n",
      "memory usage: 155.0 KB\n"
     ]
    }
   ],
   "source": [
    "full_dt_v2.info()   "
   ]
  },
  {
   "cell_type": "markdown",
   "id": "dc45ff12",
   "metadata": {
    "papermill": {
     "duration": 0.02742,
     "end_time": "2022-12-27T06:00:46.890484",
     "exception": false,
     "start_time": "2022-12-27T06:00:46.863064",
     "status": "completed"
    },
    "tags": []
   },
   "source": [
    "### **拆分模型資料**"
   ]
  },
  {
   "cell_type": "code",
   "execution_count": 52,
   "id": "554d80a3",
   "metadata": {
    "execution": {
     "iopub.execute_input": "2022-12-27T06:00:46.949360Z",
     "iopub.status.busy": "2022-12-27T06:00:46.948461Z",
     "iopub.status.idle": "2022-12-27T06:00:46.955308Z",
     "shell.execute_reply": "2022-12-27T06:00:46.954153Z"
    },
    "papermill": {
     "duration": 0.037425,
     "end_time": "2022-12-27T06:00:46.957793",
     "exception": false,
     "start_time": "2022-12-27T06:00:46.920368",
     "status": "completed"
    },
    "tags": []
   },
   "outputs": [
    {
     "data": {
      "text/plain": [
       "(1309, 17)"
      ]
     },
     "execution_count": 52,
     "metadata": {},
     "output_type": "execute_result"
    }
   ],
   "source": [
    "full_dt.shape"
   ]
  },
  {
   "cell_type": "code",
   "execution_count": 53,
   "id": "25771aa4",
   "metadata": {
    "execution": {
     "iopub.execute_input": "2022-12-27T06:00:47.015545Z",
     "iopub.status.busy": "2022-12-27T06:00:47.014910Z",
     "iopub.status.idle": "2022-12-27T06:00:47.021790Z",
     "shell.execute_reply": "2022-12-27T06:00:47.020861Z"
    },
    "papermill": {
     "duration": 0.040033,
     "end_time": "2022-12-27T06:00:47.024896",
     "exception": false,
     "start_time": "2022-12-27T06:00:46.984863",
     "status": "completed"
    },
    "tags": []
   },
   "outputs": [
    {
     "data": {
      "text/plain": [
       "(418, 11)"
      ]
     },
     "execution_count": 53,
     "metadata": {},
     "output_type": "execute_result"
    }
   ],
   "source": [
    "df_train = full_dt_v2.iloc[:891,:]\n",
    "df_test = full_dt_v2.iloc[891:,:]\n",
    "df_test.shape"
   ]
  },
  {
   "cell_type": "code",
   "execution_count": 54,
   "id": "48a2e574",
   "metadata": {
    "execution": {
     "iopub.execute_input": "2022-12-27T06:00:47.076951Z",
     "iopub.status.busy": "2022-12-27T06:00:47.076348Z",
     "iopub.status.idle": "2022-12-27T06:00:47.091774Z",
     "shell.execute_reply": "2022-12-27T06:00:47.090955Z"
    },
    "papermill": {
     "duration": 0.043713,
     "end_time": "2022-12-27T06:00:47.093609",
     "exception": false,
     "start_time": "2022-12-27T06:00:47.049896",
     "status": "completed"
    },
    "tags": []
   },
   "outputs": [
    {
     "data": {
      "text/html": [
       "<div>\n",
       "<style scoped>\n",
       "    .dataframe tbody tr th:only-of-type {\n",
       "        vertical-align: middle;\n",
       "    }\n",
       "\n",
       "    .dataframe tbody tr th {\n",
       "        vertical-align: top;\n",
       "    }\n",
       "\n",
       "    .dataframe thead th {\n",
       "        text-align: right;\n",
       "    }\n",
       "</style>\n",
       "<table border=\"1\" class=\"dataframe\">\n",
       "  <thead>\n",
       "    <tr style=\"text-align: right;\">\n",
       "      <th></th>\n",
       "      <th>Survived</th>\n",
       "      <th>Pclass</th>\n",
       "      <th>Sex</th>\n",
       "      <th>Age</th>\n",
       "      <th>SibSp</th>\n",
       "      <th>Parch</th>\n",
       "      <th>Fare</th>\n",
       "      <th>Embarked</th>\n",
       "      <th>Title</th>\n",
       "      <th>FamilySize</th>\n",
       "      <th>TicketGp</th>\n",
       "    </tr>\n",
       "  </thead>\n",
       "  <tbody>\n",
       "    <tr>\n",
       "      <th>0</th>\n",
       "      <td>0.0</td>\n",
       "      <td>3</td>\n",
       "      <td>1</td>\n",
       "      <td>22.0</td>\n",
       "      <td>1</td>\n",
       "      <td>0</td>\n",
       "      <td>7.2500</td>\n",
       "      <td>2</td>\n",
       "      <td>0</td>\n",
       "      <td>1</td>\n",
       "      <td>1</td>\n",
       "    </tr>\n",
       "    <tr>\n",
       "      <th>1</th>\n",
       "      <td>1.0</td>\n",
       "      <td>1</td>\n",
       "      <td>0</td>\n",
       "      <td>38.0</td>\n",
       "      <td>1</td>\n",
       "      <td>0</td>\n",
       "      <td>71.2833</td>\n",
       "      <td>0</td>\n",
       "      <td>2</td>\n",
       "      <td>1</td>\n",
       "      <td>0</td>\n",
       "    </tr>\n",
       "    <tr>\n",
       "      <th>2</th>\n",
       "      <td>1.0</td>\n",
       "      <td>3</td>\n",
       "      <td>0</td>\n",
       "      <td>26.0</td>\n",
       "      <td>0</td>\n",
       "      <td>0</td>\n",
       "      <td>7.9250</td>\n",
       "      <td>2</td>\n",
       "      <td>1</td>\n",
       "      <td>0</td>\n",
       "      <td>1</td>\n",
       "    </tr>\n",
       "    <tr>\n",
       "      <th>3</th>\n",
       "      <td>1.0</td>\n",
       "      <td>1</td>\n",
       "      <td>0</td>\n",
       "      <td>35.0</td>\n",
       "      <td>1</td>\n",
       "      <td>0</td>\n",
       "      <td>53.1000</td>\n",
       "      <td>2</td>\n",
       "      <td>2</td>\n",
       "      <td>1</td>\n",
       "      <td>0</td>\n",
       "    </tr>\n",
       "    <tr>\n",
       "      <th>4</th>\n",
       "      <td>0.0</td>\n",
       "      <td>3</td>\n",
       "      <td>1</td>\n",
       "      <td>35.0</td>\n",
       "      <td>0</td>\n",
       "      <td>0</td>\n",
       "      <td>8.0500</td>\n",
       "      <td>2</td>\n",
       "      <td>0</td>\n",
       "      <td>0</td>\n",
       "      <td>1</td>\n",
       "    </tr>\n",
       "  </tbody>\n",
       "</table>\n",
       "</div>"
      ],
      "text/plain": [
       "   Survived  Pclass  Sex   Age  SibSp  Parch     Fare  Embarked  Title  \\\n",
       "0       0.0       3    1  22.0      1      0   7.2500         2      0   \n",
       "1       1.0       1    0  38.0      1      0  71.2833         0      2   \n",
       "2       1.0       3    0  26.0      0      0   7.9250         2      1   \n",
       "3       1.0       1    0  35.0      1      0  53.1000         2      2   \n",
       "4       0.0       3    1  35.0      0      0   8.0500         2      0   \n",
       "\n",
       "   FamilySize  TicketGp  \n",
       "0           1         1  \n",
       "1           1         0  \n",
       "2           0         1  \n",
       "3           1         0  \n",
       "4           0         1  "
      ]
     },
     "execution_count": 54,
     "metadata": {},
     "output_type": "execute_result"
    }
   ],
   "source": [
    "df_train.head()"
   ]
  },
  {
   "cell_type": "code",
   "execution_count": 55,
   "id": "6bdc6a46",
   "metadata": {
    "execution": {
     "iopub.execute_input": "2022-12-27T06:00:47.146156Z",
     "iopub.status.busy": "2022-12-27T06:00:47.145625Z",
     "iopub.status.idle": "2022-12-27T06:00:47.163652Z",
     "shell.execute_reply": "2022-12-27T06:00:47.161071Z"
    },
    "papermill": {
     "duration": 0.048503,
     "end_time": "2022-12-27T06:00:47.166705",
     "exception": false,
     "start_time": "2022-12-27T06:00:47.118202",
     "status": "completed"
    },
    "tags": []
   },
   "outputs": [
    {
     "data": {
      "text/html": [
       "<div>\n",
       "<style scoped>\n",
       "    .dataframe tbody tr th:only-of-type {\n",
       "        vertical-align: middle;\n",
       "    }\n",
       "\n",
       "    .dataframe tbody tr th {\n",
       "        vertical-align: top;\n",
       "    }\n",
       "\n",
       "    .dataframe thead th {\n",
       "        text-align: right;\n",
       "    }\n",
       "</style>\n",
       "<table border=\"1\" class=\"dataframe\">\n",
       "  <thead>\n",
       "    <tr style=\"text-align: right;\">\n",
       "      <th></th>\n",
       "      <th>Pclass</th>\n",
       "      <th>Sex</th>\n",
       "      <th>Age</th>\n",
       "      <th>SibSp</th>\n",
       "      <th>Parch</th>\n",
       "      <th>Fare</th>\n",
       "      <th>Embarked</th>\n",
       "      <th>Title</th>\n",
       "      <th>FamilySize</th>\n",
       "      <th>TicketGp</th>\n",
       "    </tr>\n",
       "  </thead>\n",
       "  <tbody>\n",
       "    <tr>\n",
       "      <th>0</th>\n",
       "      <td>3</td>\n",
       "      <td>1</td>\n",
       "      <td>22.0</td>\n",
       "      <td>1</td>\n",
       "      <td>0</td>\n",
       "      <td>7.2500</td>\n",
       "      <td>2</td>\n",
       "      <td>0</td>\n",
       "      <td>1</td>\n",
       "      <td>1</td>\n",
       "    </tr>\n",
       "    <tr>\n",
       "      <th>1</th>\n",
       "      <td>1</td>\n",
       "      <td>0</td>\n",
       "      <td>38.0</td>\n",
       "      <td>1</td>\n",
       "      <td>0</td>\n",
       "      <td>71.2833</td>\n",
       "      <td>0</td>\n",
       "      <td>2</td>\n",
       "      <td>1</td>\n",
       "      <td>0</td>\n",
       "    </tr>\n",
       "    <tr>\n",
       "      <th>2</th>\n",
       "      <td>3</td>\n",
       "      <td>0</td>\n",
       "      <td>26.0</td>\n",
       "      <td>0</td>\n",
       "      <td>0</td>\n",
       "      <td>7.9250</td>\n",
       "      <td>2</td>\n",
       "      <td>1</td>\n",
       "      <td>0</td>\n",
       "      <td>1</td>\n",
       "    </tr>\n",
       "    <tr>\n",
       "      <th>3</th>\n",
       "      <td>1</td>\n",
       "      <td>0</td>\n",
       "      <td>35.0</td>\n",
       "      <td>1</td>\n",
       "      <td>0</td>\n",
       "      <td>53.1000</td>\n",
       "      <td>2</td>\n",
       "      <td>2</td>\n",
       "      <td>1</td>\n",
       "      <td>0</td>\n",
       "    </tr>\n",
       "    <tr>\n",
       "      <th>4</th>\n",
       "      <td>3</td>\n",
       "      <td>1</td>\n",
       "      <td>35.0</td>\n",
       "      <td>0</td>\n",
       "      <td>0</td>\n",
       "      <td>8.0500</td>\n",
       "      <td>2</td>\n",
       "      <td>0</td>\n",
       "      <td>0</td>\n",
       "      <td>1</td>\n",
       "    </tr>\n",
       "  </tbody>\n",
       "</table>\n",
       "</div>"
      ],
      "text/plain": [
       "   Pclass  Sex   Age  SibSp  Parch     Fare  Embarked  Title  FamilySize  \\\n",
       "0       3    1  22.0      1      0   7.2500         2      0           1   \n",
       "1       1    0  38.0      1      0  71.2833         0      2           1   \n",
       "2       3    0  26.0      0      0   7.9250         2      1           0   \n",
       "3       1    0  35.0      1      0  53.1000         2      2           1   \n",
       "4       3    1  35.0      0      0   8.0500         2      0           0   \n",
       "\n",
       "   TicketGp  \n",
       "0         1  \n",
       "1         0  \n",
       "2         1  \n",
       "3         0  \n",
       "4         1  "
      ]
     },
     "execution_count": 55,
     "metadata": {},
     "output_type": "execute_result"
    }
   ],
   "source": [
    "df_train_X = df_train.drop(columns = [\"Survived\"],axis = 1)\n",
    "df_train_y = df_train[\"Survived\"]\n",
    "df_train_X.head()"
   ]
  },
  {
   "cell_type": "code",
   "execution_count": 56,
   "id": "7bf728fb",
   "metadata": {
    "execution": {
     "iopub.execute_input": "2022-12-27T06:00:47.227956Z",
     "iopub.status.busy": "2022-12-27T06:00:47.227515Z",
     "iopub.status.idle": "2022-12-27T06:00:47.247247Z",
     "shell.execute_reply": "2022-12-27T06:00:47.243850Z"
    },
    "papermill": {
     "duration": 0.053711,
     "end_time": "2022-12-27T06:00:47.250490",
     "exception": false,
     "start_time": "2022-12-27T06:00:47.196779",
     "status": "completed"
    },
    "tags": []
   },
   "outputs": [
    {
     "data": {
      "text/html": [
       "<div>\n",
       "<style scoped>\n",
       "    .dataframe tbody tr th:only-of-type {\n",
       "        vertical-align: middle;\n",
       "    }\n",
       "\n",
       "    .dataframe tbody tr th {\n",
       "        vertical-align: top;\n",
       "    }\n",
       "\n",
       "    .dataframe thead th {\n",
       "        text-align: right;\n",
       "    }\n",
       "</style>\n",
       "<table border=\"1\" class=\"dataframe\">\n",
       "  <thead>\n",
       "    <tr style=\"text-align: right;\">\n",
       "      <th></th>\n",
       "      <th>Survived</th>\n",
       "      <th>Pclass</th>\n",
       "      <th>Sex</th>\n",
       "      <th>Age</th>\n",
       "      <th>SibSp</th>\n",
       "      <th>Parch</th>\n",
       "      <th>Fare</th>\n",
       "      <th>Embarked</th>\n",
       "      <th>Title</th>\n",
       "      <th>FamilySize</th>\n",
       "      <th>TicketGp</th>\n",
       "    </tr>\n",
       "  </thead>\n",
       "  <tbody>\n",
       "    <tr>\n",
       "      <th>0</th>\n",
       "      <td>NaN</td>\n",
       "      <td>3</td>\n",
       "      <td>1</td>\n",
       "      <td>34.5</td>\n",
       "      <td>0</td>\n",
       "      <td>0</td>\n",
       "      <td>7.8292</td>\n",
       "      <td>1</td>\n",
       "      <td>0</td>\n",
       "      <td>0</td>\n",
       "      <td>1</td>\n",
       "    </tr>\n",
       "    <tr>\n",
       "      <th>1</th>\n",
       "      <td>NaN</td>\n",
       "      <td>3</td>\n",
       "      <td>0</td>\n",
       "      <td>47.0</td>\n",
       "      <td>1</td>\n",
       "      <td>0</td>\n",
       "      <td>7.0000</td>\n",
       "      <td>2</td>\n",
       "      <td>2</td>\n",
       "      <td>1</td>\n",
       "      <td>1</td>\n",
       "    </tr>\n",
       "    <tr>\n",
       "      <th>2</th>\n",
       "      <td>NaN</td>\n",
       "      <td>2</td>\n",
       "      <td>1</td>\n",
       "      <td>62.0</td>\n",
       "      <td>0</td>\n",
       "      <td>0</td>\n",
       "      <td>9.6875</td>\n",
       "      <td>1</td>\n",
       "      <td>0</td>\n",
       "      <td>0</td>\n",
       "      <td>1</td>\n",
       "    </tr>\n",
       "    <tr>\n",
       "      <th>3</th>\n",
       "      <td>NaN</td>\n",
       "      <td>3</td>\n",
       "      <td>1</td>\n",
       "      <td>27.0</td>\n",
       "      <td>0</td>\n",
       "      <td>0</td>\n",
       "      <td>8.6625</td>\n",
       "      <td>2</td>\n",
       "      <td>0</td>\n",
       "      <td>0</td>\n",
       "      <td>1</td>\n",
       "    </tr>\n",
       "    <tr>\n",
       "      <th>4</th>\n",
       "      <td>NaN</td>\n",
       "      <td>3</td>\n",
       "      <td>0</td>\n",
       "      <td>22.0</td>\n",
       "      <td>1</td>\n",
       "      <td>1</td>\n",
       "      <td>12.2875</td>\n",
       "      <td>2</td>\n",
       "      <td>2</td>\n",
       "      <td>1</td>\n",
       "      <td>0</td>\n",
       "    </tr>\n",
       "  </tbody>\n",
       "</table>\n",
       "</div>"
      ],
      "text/plain": [
       "   Survived  Pclass  Sex   Age  SibSp  Parch     Fare  Embarked  Title  \\\n",
       "0       NaN       3    1  34.5      0      0   7.8292         1      0   \n",
       "1       NaN       3    0  47.0      1      0   7.0000         2      2   \n",
       "2       NaN       2    1  62.0      0      0   9.6875         1      0   \n",
       "3       NaN       3    1  27.0      0      0   8.6625         2      0   \n",
       "4       NaN       3    0  22.0      1      1  12.2875         2      2   \n",
       "\n",
       "   FamilySize  TicketGp  \n",
       "0           0         1  \n",
       "1           1         1  \n",
       "2           0         1  \n",
       "3           0         1  \n",
       "4           1         0  "
      ]
     },
     "execution_count": 56,
     "metadata": {},
     "output_type": "execute_result"
    }
   ],
   "source": [
    "df_test.head()"
   ]
  },
  {
   "cell_type": "code",
   "execution_count": 57,
   "id": "2daff1c9",
   "metadata": {
    "execution": {
     "iopub.execute_input": "2022-12-27T06:00:47.313760Z",
     "iopub.status.busy": "2022-12-27T06:00:47.313186Z",
     "iopub.status.idle": "2022-12-27T06:00:47.324040Z",
     "shell.execute_reply": "2022-12-27T06:00:47.322772Z"
    },
    "papermill": {
     "duration": 0.046992,
     "end_time": "2022-12-27T06:00:47.326760",
     "exception": false,
     "start_time": "2022-12-27T06:00:47.279768",
     "status": "completed"
    },
    "tags": []
   },
   "outputs": [
    {
     "data": {
      "text/plain": [
       "(418, 10)"
      ]
     },
     "execution_count": 57,
     "metadata": {},
     "output_type": "execute_result"
    }
   ],
   "source": [
    "df_test_X = df_test.drop(columns = [\"Survived\"],axis = 1)\n",
    "df_test_X.shape"
   ]
  },
  {
   "cell_type": "markdown",
   "id": "b5e18a36",
   "metadata": {
    "papermill": {
     "duration": 0.026953,
     "end_time": "2022-12-27T06:00:47.380702",
     "exception": false,
     "start_time": "2022-12-27T06:00:47.353749",
     "status": "completed"
    },
    "tags": []
   },
   "source": [
    "### **拆分資料集**"
   ]
  },
  {
   "cell_type": "code",
   "execution_count": 58,
   "id": "c279740d",
   "metadata": {
    "execution": {
     "iopub.execute_input": "2022-12-27T06:00:47.440414Z",
     "iopub.status.busy": "2022-12-27T06:00:47.440007Z",
     "iopub.status.idle": "2022-12-27T06:00:47.854871Z",
     "shell.execute_reply": "2022-12-27T06:00:47.853271Z"
    },
    "papermill": {
     "duration": 0.447163,
     "end_time": "2022-12-27T06:00:47.857455",
     "exception": false,
     "start_time": "2022-12-27T06:00:47.410292",
     "status": "completed"
    },
    "tags": []
   },
   "outputs": [],
   "source": [
    "from sklearn.model_selection import train_test_split\n",
    "X_train, X_test, y_train, y_test = train_test_split(df_train_X, df_train_y ,test_size=0.25, random_state=1)"
   ]
  },
  {
   "cell_type": "code",
   "execution_count": 59,
   "id": "84558bea",
   "metadata": {
    "execution": {
     "iopub.execute_input": "2022-12-27T06:00:47.912342Z",
     "iopub.status.busy": "2022-12-27T06:00:47.911946Z",
     "iopub.status.idle": "2022-12-27T06:00:48.198562Z",
     "shell.execute_reply": "2022-12-27T06:00:48.197625Z"
    },
    "papermill": {
     "duration": 0.317697,
     "end_time": "2022-12-27T06:00:48.200915",
     "exception": false,
     "start_time": "2022-12-27T06:00:47.883218",
     "status": "completed"
    },
    "tags": []
   },
   "outputs": [],
   "source": [
    "from sklearn.ensemble import RandomForestClassifier,GradientBoostingClassifier,ExtraTreesClassifier\n",
    "from sklearn.discriminant_analysis import LinearDiscriminantAnalysis\n",
    "from sklearn.linear_model import LogisticRegression\n",
    "from sklearn.neighbors import KNeighborsClassifier\n",
    "from sklearn.tree import DecisionTreeClassifier\n",
    "from sklearn.svm import SVC\n",
    "from sklearn.model_selection import GridSearchCV,cross_val_score,StratifiedKFold\n",
    "\n",
    "kfold=StratifiedKFold(n_splits=10)\n",
    "\n",
    "classifiers=[ ]\n",
    "classifiers.append(SVC())\n",
    "classifiers.append(DecisionTreeClassifier())\n",
    "classifiers.append(RandomForestClassifier())\n",
    "classifiers.append(ExtraTreesClassifier())\n",
    "classifiers.append(GradientBoostingClassifier())\n",
    "classifiers.append(KNeighborsClassifier())\n",
    "classifiers.append(LogisticRegression())\n",
    "classifiers.append(LinearDiscriminantAnalysis())"
   ]
  },
  {
   "cell_type": "code",
   "execution_count": 60,
   "id": "88cc01f6",
   "metadata": {
    "execution": {
     "iopub.execute_input": "2022-12-27T06:00:48.254093Z",
     "iopub.status.busy": "2022-12-27T06:00:48.253726Z",
     "iopub.status.idle": "2022-12-27T06:00:51.583550Z",
     "shell.execute_reply": "2022-12-27T06:00:51.582635Z"
    },
    "papermill": {
     "duration": 3.359593,
     "end_time": "2022-12-27T06:00:51.586219",
     "exception": false,
     "start_time": "2022-12-27T06:00:48.226626",
     "status": "completed"
    },
    "tags": []
   },
   "outputs": [],
   "source": [
    "cv_results=[]\n",
    "for classifier in classifiers:\n",
    "    cv_results.append(cross_val_score(classifier,X_train,y_train,\n",
    "                                 scoring='accuracy', cv=kfold,n_jobs=-1))"
   ]
  },
  {
   "cell_type": "code",
   "execution_count": 61,
   "id": "3bad56dc",
   "metadata": {
    "execution": {
     "iopub.execute_input": "2022-12-27T06:00:51.639508Z",
     "iopub.status.busy": "2022-12-27T06:00:51.639083Z",
     "iopub.status.idle": "2022-12-27T06:00:51.653937Z",
     "shell.execute_reply": "2022-12-27T06:00:51.652813Z"
    },
    "papermill": {
     "duration": 0.044427,
     "end_time": "2022-12-27T06:00:51.656075",
     "exception": false,
     "start_time": "2022-12-27T06:00:51.611648",
     "status": "completed"
    },
    "tags": []
   },
   "outputs": [
    {
     "data": {
      "text/html": [
       "<div>\n",
       "<style scoped>\n",
       "    .dataframe tbody tr th:only-of-type {\n",
       "        vertical-align: middle;\n",
       "    }\n",
       "\n",
       "    .dataframe tbody tr th {\n",
       "        vertical-align: top;\n",
       "    }\n",
       "\n",
       "    .dataframe thead th {\n",
       "        text-align: right;\n",
       "    }\n",
       "</style>\n",
       "<table border=\"1\" class=\"dataframe\">\n",
       "  <thead>\n",
       "    <tr style=\"text-align: right;\">\n",
       "      <th></th>\n",
       "      <th>cv_mean</th>\n",
       "      <th>cv_std</th>\n",
       "      <th>algorithm</th>\n",
       "    </tr>\n",
       "  </thead>\n",
       "  <tbody>\n",
       "    <tr>\n",
       "      <th>0</th>\n",
       "      <td>0.681185</td>\n",
       "      <td>0.040303</td>\n",
       "      <td>SVC</td>\n",
       "    </tr>\n",
       "    <tr>\n",
       "      <th>1</th>\n",
       "      <td>0.790479</td>\n",
       "      <td>0.034983</td>\n",
       "      <td>DecisionTreeCla</td>\n",
       "    </tr>\n",
       "    <tr>\n",
       "      <th>2</th>\n",
       "      <td>0.829444</td>\n",
       "      <td>0.049359</td>\n",
       "      <td>RandomForestCla</td>\n",
       "    </tr>\n",
       "    <tr>\n",
       "      <th>3</th>\n",
       "      <td>0.810018</td>\n",
       "      <td>0.050488</td>\n",
       "      <td>ExtraTreesCla</td>\n",
       "    </tr>\n",
       "    <tr>\n",
       "      <th>4</th>\n",
       "      <td>0.833921</td>\n",
       "      <td>0.042827</td>\n",
       "      <td>GradientBoostingCla</td>\n",
       "    </tr>\n",
       "    <tr>\n",
       "      <th>5</th>\n",
       "      <td>0.699299</td>\n",
       "      <td>0.060200</td>\n",
       "      <td>KNN</td>\n",
       "    </tr>\n",
       "    <tr>\n",
       "      <th>6</th>\n",
       "      <td>0.821755</td>\n",
       "      <td>0.043961</td>\n",
       "      <td>LR</td>\n",
       "    </tr>\n",
       "    <tr>\n",
       "      <th>7</th>\n",
       "      <td>0.823315</td>\n",
       "      <td>0.048724</td>\n",
       "      <td>LinearDiscrimiAna</td>\n",
       "    </tr>\n",
       "  </tbody>\n",
       "</table>\n",
       "</div>"
      ],
      "text/plain": [
       "    cv_mean    cv_std            algorithm\n",
       "0  0.681185  0.040303                  SVC\n",
       "1  0.790479  0.034983      DecisionTreeCla\n",
       "2  0.829444  0.049359      RandomForestCla\n",
       "3  0.810018  0.050488        ExtraTreesCla\n",
       "4  0.833921  0.042827  GradientBoostingCla\n",
       "5  0.699299  0.060200                  KNN\n",
       "6  0.821755  0.043961                   LR\n",
       "7  0.823315  0.048724    LinearDiscrimiAna"
      ]
     },
     "execution_count": 61,
     "metadata": {},
     "output_type": "execute_result"
    }
   ],
   "source": [
    "cv_means=[]\n",
    "cv_std=[]\n",
    "for cv_result in cv_results:\n",
    "    cv_means.append(cv_result.mean())\n",
    "    cv_std.append(cv_result.std())\n",
    "    \n",
    "cvResDf=pd.DataFrame({'cv_mean': cv_means,\n",
    "                          'cv_std' : cv_std,\n",
    "                          'algorithm':['SVC','DecisionTreeCla','RandomForestCla','ExtraTreesCla',\n",
    "                                        'GradientBoostingCla', 'KNN' , 'LR' , 'LinearDiscrimiAna']})\n",
    "cvResDf"
   ]
  },
  {
   "cell_type": "code",
   "execution_count": 62,
   "id": "3abbfd5d",
   "metadata": {
    "execution": {
     "iopub.execute_input": "2022-12-27T06:00:51.709195Z",
     "iopub.status.busy": "2022-12-27T06:00:51.708763Z",
     "iopub.status.idle": "2022-12-27T06:00:52.023807Z",
     "shell.execute_reply": "2022-12-27T06:00:52.022477Z"
    },
    "papermill": {
     "duration": 0.344296,
     "end_time": "2022-12-27T06:00:52.026284",
     "exception": false,
     "start_time": "2022-12-27T06:00:51.681988",
     "status": "completed"
    },
    "tags": []
   },
   "outputs": [
    {
     "name": "stderr",
     "output_type": "stream",
     "text": [
      "/opt/conda/lib/python3.7/site-packages/seaborn/axisgrid.py:670: UserWarning: Using the barplot function without specifying `order` is likely to produce an incorrect plot.\n",
      "  warnings.warn(warning)\n"
     ]
    },
    {
     "data": {
      "text/plain": [
       "<seaborn.axisgrid.FacetGrid at 0x7f01314d91d0>"
      ]
     },
     "execution_count": 62,
     "metadata": {},
     "output_type": "execute_result"
    },
    {
     "data": {
      "image/png": "[encoded data removed]",
      "text/plain": [
       "<Figure size 440x216 with 1 Axes>"
      ]
     },
     "metadata": {
      "needs_background": "light"
     },
     "output_type": "display_data"
    }
   ],
   "source": [
    "#Model Selection\n",
    "cvResFacet=sns. FacetGrid(cvResDf . sort_values(by='cv_mean', ascending=False),sharex=False,\n",
    "                          sharey=False, aspect=2)\n",
    "cvResFacet.map(sns.barplot, 'cv_mean', 'algorithm' ,**{'xerr' :cv_std},\n",
    "               palette='muted')\n",
    "cvResFacet.set(xlim=(0.7,0.9))\n",
    "cvResFacet.add_legend()"
   ]
  },
  {
   "cell_type": "code",
   "execution_count": 63,
   "id": "8080c8d6",
   "metadata": {
    "execution": {
     "iopub.execute_input": "2022-12-27T06:00:52.079970Z",
     "iopub.status.busy": "2022-12-27T06:00:52.079573Z",
     "iopub.status.idle": "2022-12-27T06:01:14.357226Z",
     "shell.execute_reply": "2022-12-27T06:01:14.355668Z"
    },
    "papermill": {
     "duration": 22.308649,
     "end_time": "2022-12-27T06:01:14.360919",
     "exception": false,
     "start_time": "2022-12-27T06:00:52.052270",
     "status": "completed"
    },
    "tags": []
   },
   "outputs": [
    {
     "name": "stdout",
     "output_type": "stream",
     "text": [
      "Fitting 10 folds for each of 72 candidates, totalling 720 fits\n",
      "{'learning_rate': 0.1, 'loss': 'deviance', 'max_depth': 8, 'max_features': 0.3, 'min_samples_leaf': 150, 'n_estimators': 300}\n"
     ]
    }
   ],
   "source": [
    "GBC = GradientBoostingClassifier()\n",
    "gb_param_grid = {\"loss\":[\"deviance\"],\n",
    "                 \"n_estimators\": [100,200,300],\n",
    "                 \"learning_rate\" : [0.1, 0.05, 0.01],\n",
    "                  \"max_depth\" : [4, 8],\n",
    "                  \"min_samples_leaf\" : [180, 150],\n",
    "                 \"max_features\": [0.3, 0.1]\n",
    "                }\n",
    "modelgsGBC = GridSearchCV(GBC, param_grid = gb_param_grid, cv=kfold,\n",
    "scoring=\"accuracy\", n_jobs= -1, verbose = 1)\n",
    "modelgsGBC.fit(X_train,y_train)\n",
    "\n",
    "print(modelgsGBC.best_params_)"
   ]
  },
  {
   "cell_type": "code",
   "execution_count": 64,
   "id": "666736d0",
   "metadata": {
    "execution": {
     "iopub.execute_input": "2022-12-27T06:01:14.414741Z",
     "iopub.status.busy": "2022-12-27T06:01:14.414349Z",
     "iopub.status.idle": "2022-12-27T06:01:14.433050Z",
     "shell.execute_reply": "2022-12-27T06:01:14.431272Z"
    },
    "papermill": {
     "duration": 0.049056,
     "end_time": "2022-12-27T06:01:14.436091",
     "exception": false,
     "start_time": "2022-12-27T06:01:14.387035",
     "status": "completed"
    },
    "tags": []
   },
   "outputs": [
    {
     "name": "stdout",
     "output_type": "stream",
     "text": [
      "[[115  13]\n",
      " [ 27  68]]\n",
      "--------------------------------------\n",
      "0.820627802690583\n",
      "--------------------------------------\n",
      "              precision    recall  f1-score   support\n",
      "\n",
      "         0.0       0.81      0.90      0.85       128\n",
      "         1.0       0.84      0.72      0.77        95\n",
      "\n",
      "    accuracy                           0.82       223\n",
      "   macro avg       0.82      0.81      0.81       223\n",
      "weighted avg       0.82      0.82      0.82       223\n",
      "\n"
     ]
    }
   ],
   "source": [
    "y_pred=modelgsGBC.predict(X_test)\n",
    "\n",
    "from sklearn.metrics import confusion_matrix\n",
    "from sklearn.metrics import accuracy_score\n",
    "from sklearn.metrics import classification_report\n",
    "\n",
    "cm = confusion_matrix(y_test, y_pred)\n",
    "acc = accuracy_score(y_test, y_pred)\n",
    "cr = classification_report(y_test, y_pred)\n",
    "\n",
    "print(cm)\n",
    "print(\"--------------------------------------\")\n",
    "print(acc)\n",
    "print(\"--------------------------------------\")\n",
    "print(cr)"
   ]
  },
  {
   "cell_type": "code",
   "execution_count": 65,
   "id": "cc4b2f70",
   "metadata": {
    "execution": {
     "iopub.execute_input": "2022-12-27T06:01:14.492961Z",
     "iopub.status.busy": "2022-12-27T06:01:14.492287Z",
     "iopub.status.idle": "2022-12-27T06:01:14.504252Z",
     "shell.execute_reply": "2022-12-27T06:01:14.503001Z"
    },
    "papermill": {
     "duration": 0.042529,
     "end_time": "2022-12-27T06:01:14.506369",
     "exception": false,
     "start_time": "2022-12-27T06:01:14.463840",
     "status": "completed"
    },
    "tags": []
   },
   "outputs": [
    {
     "data": {
      "text/plain": [
       "array([0, 0, 0, 0, 1, 0, 1, 0, 1, 0, 0, 0, 1, 0, 1, 1, 0, 0, 1, 0, 0, 0,\n",
       "       1, 1, 1, 0, 1, 0, 0, 0, 0, 0, 1, 0, 0, 0, 1, 1, 0, 0, 0, 0, 0, 1,\n",
       "       1, 0, 0, 0, 1, 1, 0, 0, 1, 1, 0, 0, 0, 0, 0, 1, 0, 0, 0, 1, 1, 1,\n",
       "       1, 0, 0, 1, 1, 0, 1, 0, 1, 0, 0, 1, 0, 1, 1, 0, 0, 0, 0, 0, 1, 1,\n",
       "       1, 1, 1, 0, 1, 0, 0, 0, 1, 0, 1, 0, 1, 0, 0, 0, 1, 0, 0, 0, 0, 0,\n",
       "       0, 1, 1, 1, 1, 0, 0, 1, 1, 1, 1, 0, 1, 0, 0, 1, 0, 1, 0, 0, 0, 1,\n",
       "       0, 0, 0, 0, 0, 0, 1, 0, 0, 1, 0, 0, 0, 0, 0, 0, 0, 0, 1, 0, 0, 1,\n",
       "       0, 0, 1, 0, 0, 1, 1, 1, 1, 0, 0, 0, 0, 0, 1, 0, 0, 0, 0, 0, 0, 1,\n",
       "       1, 0, 1, 1, 0, 0, 1, 0, 1, 0, 1, 0, 0, 0, 0, 0, 0, 0, 1, 0, 1, 1,\n",
       "       0, 1, 1, 1, 1, 1, 0, 0, 1, 0, 1, 0, 0, 0, 0, 1, 0, 0, 1, 0, 1, 0,\n",
       "       1, 0, 1, 0, 1, 1, 0, 1, 0, 0, 0, 1, 0, 0, 0, 0, 0, 0, 1, 1, 1, 1,\n",
       "       0, 0, 0, 0, 1, 0, 1, 1, 1, 0, 0, 0, 0, 0, 0, 0, 1, 0, 0, 0, 1, 1,\n",
       "       0, 0, 0, 0, 1, 0, 0, 0, 1, 1, 0, 1, 0, 0, 0, 0, 0, 1, 1, 1, 1, 0,\n",
       "       0, 0, 0, 0, 0, 1, 0, 1, 0, 0, 1, 0, 0, 0, 0, 0, 0, 0, 1, 1, 0, 1,\n",
       "       0, 0, 0, 0, 0, 0, 1, 1, 0, 0, 0, 0, 0, 0, 0, 0, 1, 0, 1, 0, 0, 0,\n",
       "       1, 0, 0, 1, 0, 0, 0, 0, 0, 1, 0, 0, 0, 1, 0, 1, 0, 0, 0, 1, 1, 0,\n",
       "       0, 0, 1, 0, 1, 0, 0, 0, 0, 1, 1, 0, 1, 0, 0, 0, 1, 0, 0, 1, 0, 0,\n",
       "       1, 1, 0, 0, 0, 0, 0, 0, 1, 1, 0, 1, 0, 0, 0, 0, 0, 1, 1, 0, 0, 1,\n",
       "       0, 1, 0, 0, 1, 0, 1, 0, 0, 0, 0, 0, 1, 1, 1, 1, 0, 0, 1, 0, 0, 1])"
      ]
     },
     "execution_count": 65,
     "metadata": {},
     "output_type": "execute_result"
    }
   ],
   "source": [
    "y_ans2 = modelgsGBC.predict(df_test_X)\n",
    "y_ans2 = y_ans2.astype(int)\n",
    "y_ans2"
   ]
  },
  {
   "cell_type": "code",
   "execution_count": 66,
   "id": "7d0a3146",
   "metadata": {
    "execution": {
     "iopub.execute_input": "2022-12-27T06:01:14.559129Z",
     "iopub.status.busy": "2022-12-27T06:01:14.558740Z",
     "iopub.status.idle": "2022-12-27T06:01:14.566558Z",
     "shell.execute_reply": "2022-12-27T06:01:14.565205Z"
    },
    "papermill": {
     "duration": 0.03753,
     "end_time": "2022-12-27T06:01:14.569280",
     "exception": false,
     "start_time": "2022-12-27T06:01:14.531750",
     "status": "completed"
    },
    "tags": []
   },
   "outputs": [
    {
     "data": {
      "text/plain": [
       "(418, 10)"
      ]
     },
     "execution_count": 66,
     "metadata": {},
     "output_type": "execute_result"
    }
   ],
   "source": [
    "df_test_X.shape"
   ]
  },
  {
   "cell_type": "code",
   "execution_count": 67,
   "id": "d4430521",
   "metadata": {
    "execution": {
     "iopub.execute_input": "2022-12-27T06:01:14.624050Z",
     "iopub.status.busy": "2022-12-27T06:01:14.623283Z",
     "iopub.status.idle": "2022-12-27T06:01:14.633345Z",
     "shell.execute_reply": "2022-12-27T06:01:14.631895Z"
    },
    "papermill": {
     "duration": 0.039615,
     "end_time": "2022-12-27T06:01:14.635402",
     "exception": false,
     "start_time": "2022-12-27T06:01:14.595787",
     "status": "completed"
    },
    "tags": []
   },
   "outputs": [
    {
     "data": {
      "text/plain": [
       "0       892\n",
       "1       893\n",
       "2       894\n",
       "3       895\n",
       "4       896\n",
       "       ... \n",
       "413    1305\n",
       "414    1306\n",
       "415    1307\n",
       "416    1308\n",
       "417    1309\n",
       "Name: PassengerId, Length: 418, dtype: int64"
      ]
     },
     "execution_count": 67,
     "metadata": {},
     "output_type": "execute_result"
    }
   ],
   "source": [
    "full_dt.iloc[891:,:].PassengerId"
   ]
  },
  {
   "cell_type": "code",
   "execution_count": 68,
   "id": "1e092c04",
   "metadata": {
    "execution": {
     "iopub.execute_input": "2022-12-27T06:01:14.689024Z",
     "iopub.status.busy": "2022-12-27T06:01:14.688679Z",
     "iopub.status.idle": "2022-12-27T06:01:14.701826Z",
     "shell.execute_reply": "2022-12-27T06:01:14.700134Z"
    },
    "papermill": {
     "duration": 0.043174,
     "end_time": "2022-12-27T06:01:14.704352",
     "exception": false,
     "start_time": "2022-12-27T06:01:14.661178",
     "status": "completed"
    },
    "tags": []
   },
   "outputs": [
    {
     "data": {
      "text/html": [
       "<div>\n",
       "<style scoped>\n",
       "    .dataframe tbody tr th:only-of-type {\n",
       "        vertical-align: middle;\n",
       "    }\n",
       "\n",
       "    .dataframe tbody tr th {\n",
       "        vertical-align: top;\n",
       "    }\n",
       "\n",
       "    .dataframe thead th {\n",
       "        text-align: right;\n",
       "    }\n",
       "</style>\n",
       "<table border=\"1\" class=\"dataframe\">\n",
       "  <thead>\n",
       "    <tr style=\"text-align: right;\">\n",
       "      <th></th>\n",
       "      <th>PassengerId</th>\n",
       "      <th>Survived</th>\n",
       "    </tr>\n",
       "  </thead>\n",
       "  <tbody>\n",
       "    <tr>\n",
       "      <th>0</th>\n",
       "      <td>892</td>\n",
       "      <td>0</td>\n",
       "    </tr>\n",
       "    <tr>\n",
       "      <th>1</th>\n",
       "      <td>893</td>\n",
       "      <td>0</td>\n",
       "    </tr>\n",
       "    <tr>\n",
       "      <th>2</th>\n",
       "      <td>894</td>\n",
       "      <td>0</td>\n",
       "    </tr>\n",
       "    <tr>\n",
       "      <th>3</th>\n",
       "      <td>895</td>\n",
       "      <td>0</td>\n",
       "    </tr>\n",
       "    <tr>\n",
       "      <th>4</th>\n",
       "      <td>896</td>\n",
       "      <td>1</td>\n",
       "    </tr>\n",
       "    <tr>\n",
       "      <th>...</th>\n",
       "      <td>...</td>\n",
       "      <td>...</td>\n",
       "    </tr>\n",
       "    <tr>\n",
       "      <th>413</th>\n",
       "      <td>1305</td>\n",
       "      <td>0</td>\n",
       "    </tr>\n",
       "    <tr>\n",
       "      <th>414</th>\n",
       "      <td>1306</td>\n",
       "      <td>1</td>\n",
       "    </tr>\n",
       "    <tr>\n",
       "      <th>415</th>\n",
       "      <td>1307</td>\n",
       "      <td>0</td>\n",
       "    </tr>\n",
       "    <tr>\n",
       "      <th>416</th>\n",
       "      <td>1308</td>\n",
       "      <td>0</td>\n",
       "    </tr>\n",
       "    <tr>\n",
       "      <th>417</th>\n",
       "      <td>1309</td>\n",
       "      <td>1</td>\n",
       "    </tr>\n",
       "  </tbody>\n",
       "</table>\n",
       "<p>418 rows × 2 columns</p>\n",
       "</div>"
      ],
      "text/plain": [
       "     PassengerId  Survived\n",
       "0            892         0\n",
       "1            893         0\n",
       "2            894         0\n",
       "3            895         0\n",
       "4            896         1\n",
       "..           ...       ...\n",
       "413         1305         0\n",
       "414         1306         1\n",
       "415         1307         0\n",
       "416         1308         0\n",
       "417         1309         1\n",
       "\n",
       "[418 rows x 2 columns]"
      ]
     },
     "execution_count": 68,
     "metadata": {},
     "output_type": "execute_result"
    }
   ],
   "source": [
    "output = pd.DataFrame({\"PassengerId\" : full_dt.iloc[891:,:].PassengerId,\"Survived\" : y_ans2})\n",
    "output"
   ]
  },
  {
   "cell_type": "code",
   "execution_count": 69,
   "id": "e9014e77",
   "metadata": {
    "execution": {
     "iopub.execute_input": "2022-12-27T06:01:14.760732Z",
     "iopub.status.busy": "2022-12-27T06:01:14.759370Z",
     "iopub.status.idle": "2022-12-27T06:01:14.769145Z",
     "shell.execute_reply": "2022-12-27T06:01:14.767663Z"
    },
    "papermill": {
     "duration": 0.040978,
     "end_time": "2022-12-27T06:01:14.772004",
     "exception": false,
     "start_time": "2022-12-27T06:01:14.731026",
     "status": "completed"
    },
    "tags": []
   },
   "outputs": [],
   "source": [
    "output.to_csv(\"submission.csv\",index = False)"
   ]
  },
  {
   "cell_type": "code",
   "execution_count": 70,
   "id": "e46f3742",
   "metadata": {
    "execution": {
     "iopub.execute_input": "2022-12-27T06:01:14.826084Z",
     "iopub.status.busy": "2022-12-27T06:01:14.825657Z",
     "iopub.status.idle": "2022-12-27T06:01:14.830486Z",
     "shell.execute_reply": "2022-12-27T06:01:14.829377Z"
    },
    "papermill": {
     "duration": 0.034218,
     "end_time": "2022-12-27T06:01:14.832421",
     "exception": false,
     "start_time": "2022-12-27T06:01:14.798203",
     "status": "completed"
    },
    "tags": []
   },
   "outputs": [],
   "source": [
    "# #ETC = ExtraTreesClassifier() I\n",
    "# # #gb_param_grid = ('loss' : [\"deviance\"],\n",
    "# #                  'n_estimators' : [10,15,20],\n",
    "# #                  'max_depth' : [4, 8],\n",
    "# #                  'min_samples_leaf' : [180, 150],\n",
    "# #                  'max_features': [0.3, 0.1]\n",
    "# modelETC = ExtraTreesClassifier( n_estimators=20, criterion=\"gini\",max_depth=None, min_samples_split=2,\n",
    "#                                   min_samples_leaf=1, min_weight_fraction_leaf=0.0,\n",
    "#                                   max_features=\"auto\", max_leaf_nodes=None,\n",
    "#                                   min_impurity_decrease=0.0,\n",
    "#                                   bootstrap=False, oob_score=False, n_jobs=1,\n",
    "#                                   random_state=None, verbose=0, warm_start=False,\n",
    "#                                   class_weight=None)\n",
    "# modelETC.fit(X_train,y_train)"
   ]
  },
  {
   "cell_type": "code",
   "execution_count": 71,
   "id": "0851e841",
   "metadata": {
    "execution": {
     "iopub.execute_input": "2022-12-27T06:01:14.888322Z",
     "iopub.status.busy": "2022-12-27T06:01:14.887702Z",
     "iopub.status.idle": "2022-12-27T06:01:14.891541Z",
     "shell.execute_reply": "2022-12-27T06:01:14.890876Z"
    },
    "papermill": {
     "duration": 0.033886,
     "end_time": "2022-12-27T06:01:14.893347",
     "exception": false,
     "start_time": "2022-12-27T06:01:14.859461",
     "status": "completed"
    },
    "tags": []
   },
   "outputs": [],
   "source": [
    "# ExtraTreesClassifier( n_estimators=10, criterion=’gini’,\n",
    "# max_depth=None, min_samples_split=2,\n",
    "# min_samples_leaf=1, min_weight_fraction_leaf=0.0,\n",
    "# max_features=’auto’, max_leaf_nodes=None,\n",
    "# min_impurity_decrease=0.0, min_impurity_split=None,\n",
    "# bootstrap=False, oob_score=False, n_jobs=1,\n",
    "# random_state=None, verbose=0, warm_start=False,\n",
    "# class_weight=None)"
   ]
  },
  {
   "cell_type": "code",
   "execution_count": 72,
   "id": "8cad95bf",
   "metadata": {
    "execution": {
     "iopub.execute_input": "2022-12-27T06:01:14.948475Z",
     "iopub.status.busy": "2022-12-27T06:01:14.948094Z",
     "iopub.status.idle": "2022-12-27T06:01:14.954460Z",
     "shell.execute_reply": "2022-12-27T06:01:14.952616Z"
    },
    "papermill": {
     "duration": 0.036634,
     "end_time": "2022-12-27T06:01:14.956829",
     "exception": false,
     "start_time": "2022-12-27T06:01:14.920195",
     "status": "completed"
    },
    "tags": []
   },
   "outputs": [],
   "source": [
    "# y_pred=modelETC.predict(X_test)\n",
    "\n",
    "# from sklearn.metrics import confusion_matrix\n",
    "# from sklearn.metrics import accuracy_score\n",
    "# from sklearn.metrics import classification_report\n",
    "\n",
    "# cm = confusion_matrix(y_test, y_pred)\n",
    "# acc = accuracy_score(y_test, y_pred)\n",
    "# cr = classification_report(y_test, y_pred)\n",
    "\n",
    "# print(cm)\n",
    "# print(\"--------------------------------------\")\n",
    "# print(acc)\n",
    "# print(\"--------------------------------------\")\n",
    "# print(cr)"
   ]
  }
 ],
 "metadata": {
  "kernelspec": {
   "display_name": "Python 3",
   "language": "python",
   "name": "python3"
  },
  "language_info": {
   "codemirror_mode": {
    "name": "ipython",
    "version": 3
   },
   "file_extension": ".py",
   "mimetype": "text/x-python",
   "name": "python",
   "nbconvert_exporter": "python",
   "pygments_lexer": "ipython3",
   "version": "3.7.12"
  },
  "papermill": {
   "default_parameters": {},
   "duration": 48.32645,
   "end_time": "2022-12-27T06:01:17.605137",
   "environment_variables": {},
   "exception": null,
   "input_path": "__notebook__.ipynb",
   "output_path": "__notebook__.ipynb",
   "parameters": {},
   "start_time": "2022-12-27T06:00:29.278687",
   "version": "2.3.4"
  }
 },
 "nbformat": 4,
 "nbformat_minor": 5
}
